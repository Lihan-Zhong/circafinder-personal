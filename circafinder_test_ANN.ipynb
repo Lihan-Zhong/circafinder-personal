{
 "cells": [
  {
   "cell_type": "markdown",
   "id": "37d471fe-519f-4274-8b98-f97c1f4a6006",
   "metadata": {},
   "source": [
    "# Packages loading"
   ]
  },
  {
   "cell_type": "code",
   "execution_count": 1,
   "id": "99143dee-dc98-4202-aa8f-04c766867114",
   "metadata": {},
   "outputs": [],
   "source": [
    "import pickle\n",
    "import sys\n",
    "import os\n",
    "import pandas as pd\n",
    "import numpy as np\n",
    "import anndata as ad\n",
    "import scanpy as sc\n",
    "import re\n",
    "\n",
    "from scipy.sparse import csr_matrix\n",
    "\n",
    "import matplotlib.pyplot as plt\n",
    "import matplotlib as mpl\n",
    "import seaborn as sns\n",
    "\n",
    "from sklearn.model_selection import train_test_split, GridSearchCV\n",
    "from sklearn.ensemble import RandomForestClassifier\n",
    "from sklearn.svm import LinearSVC\n",
    "from sklearn.multiclass import OneVsRestClassifier\n",
    "from sklearn.pipeline import Pipeline\n",
    "from sklearn.preprocessing import StandardScaler\n",
    "from sklearn.metrics import classification_report, confusion_matrix\n",
    "\n",
    "from sklearn.decomposition import PCA\n",
    "from sklearn.preprocessing import StandardScaler\n",
    "\n",
    "import torch\n",
    "import torch.nn as nn\n",
    "import torch.optim as optim\n",
    "from torch.utils.data import Dataset, DataLoader"
   ]
  },
  {
   "cell_type": "code",
   "execution_count": null,
   "id": "037c13e2-5549-46ef-ae31-c40bad822405",
   "metadata": {},
   "outputs": [],
   "source": [
    "!pwd"
   ]
  },
  {
   "cell_type": "markdown",
   "id": "2c7bf612-d2ee-4614-9b57-2962a5aa5f42",
   "metadata": {},
   "source": [
    "# Data loading"
   ]
  },
  {
   "cell_type": "markdown",
   "id": "9a12f81d-bcf3-4c0a-9c79-acf8e8737898",
   "metadata": {},
   "source": [
    "<span style=\"font-size:18px;\">The dataset is downloaded from **[Wen et al., 2020, Nat Neurosci](https://www.nature.com/articles/s41593-020-0586-x)**, we did the upstream pre-processing, and use the subset of Astrocyte and Microglia as the example for model training</span>"
   ]
  },
  {
   "cell_type": "code",
   "execution_count": 58,
   "id": "8e6d7d8d-690e-41fe-9520-716d667151f7",
   "metadata": {},
   "outputs": [
    {
     "name": "stderr",
     "output_type": "stream",
     "text": [
      "/lustre/fs4/cao_lab/store/lzhong01/miniconda3/envs/pytorch/lib/python3.10/site-packages/anndata/_core/aligned_df.py:68: ImplicitModificationWarning: Transforming to str index.\n",
      "  warnings.warn(\"Transforming to str index.\", ImplicitModificationWarning)\n"
     ]
    }
   ],
   "source": [
    "adata = sc.read_h5ad(\"./Dataset_for_training/Wen_et_al_2020.h5ad\")"
   ]
  },
  {
   "cell_type": "code",
   "execution_count": 59,
   "id": "20c42b75-400c-408a-a8e7-e34bf0ad60ab",
   "metadata": {},
   "outputs": [
    {
     "data": {
      "text/plain": [
       "AnnData object with n_obs × n_vars = 81736 × 55416\n",
       "    obs: 'cell_type', 'Age_Time', 'total_UMI', 'TOD'\n",
       "    var: 'gene_id', 'gene_type', 'gene_name'"
      ]
     },
     "execution_count": 59,
     "metadata": {},
     "output_type": "execute_result"
    }
   ],
   "source": [
    "adata"
   ]
  },
  {
   "cell_type": "code",
   "execution_count": 60,
   "id": "b85aab5c-f97e-4401-89d8-6df9e05d948b",
   "metadata": {},
   "outputs": [
    {
     "data": {
      "text/html": [
       "<div>\n",
       "<style scoped>\n",
       "    .dataframe tbody tr th:only-of-type {\n",
       "        vertical-align: middle;\n",
       "    }\n",
       "\n",
       "    .dataframe tbody tr th {\n",
       "        vertical-align: top;\n",
       "    }\n",
       "\n",
       "    .dataframe thead th {\n",
       "        text-align: right;\n",
       "    }\n",
       "</style>\n",
       "<table border=\"1\" class=\"dataframe\">\n",
       "  <thead>\n",
       "    <tr style=\"text-align: right;\">\n",
       "      <th></th>\n",
       "      <th>cell_type</th>\n",
       "      <th>Age_Time</th>\n",
       "      <th>total_UMI</th>\n",
       "      <th>TOD</th>\n",
       "    </tr>\n",
       "  </thead>\n",
       "  <tbody>\n",
       "    <tr>\n",
       "      <th>0</th>\n",
       "      <td>Neurons</td>\n",
       "      <td>Adult_18</td>\n",
       "      <td>18239.0</td>\n",
       "      <td>18.0</td>\n",
       "    </tr>\n",
       "    <tr>\n",
       "      <th>1</th>\n",
       "      <td>Neurons</td>\n",
       "      <td>Adult_54</td>\n",
       "      <td>10426.0</td>\n",
       "      <td>6.0</td>\n",
       "    </tr>\n",
       "    <tr>\n",
       "      <th>2</th>\n",
       "      <td>Neurons</td>\n",
       "      <td>Aged_26</td>\n",
       "      <td>14542.0</td>\n",
       "      <td>2.0</td>\n",
       "    </tr>\n",
       "    <tr>\n",
       "      <th>3</th>\n",
       "      <td>Neurons</td>\n",
       "      <td>Adult_38</td>\n",
       "      <td>11344.0</td>\n",
       "      <td>14.0</td>\n",
       "    </tr>\n",
       "    <tr>\n",
       "      <th>4</th>\n",
       "      <td>Neurons</td>\n",
       "      <td>Adult_38</td>\n",
       "      <td>11368.0</td>\n",
       "      <td>14.0</td>\n",
       "    </tr>\n",
       "    <tr>\n",
       "      <th>...</th>\n",
       "      <td>...</td>\n",
       "      <td>...</td>\n",
       "      <td>...</td>\n",
       "      <td>...</td>\n",
       "    </tr>\n",
       "    <tr>\n",
       "      <th>81731</th>\n",
       "      <td>Microglia</td>\n",
       "      <td>Aged_50</td>\n",
       "      <td>11424.0</td>\n",
       "      <td>2.0</td>\n",
       "    </tr>\n",
       "    <tr>\n",
       "      <th>81732</th>\n",
       "      <td>Microglia</td>\n",
       "      <td>Aged_50</td>\n",
       "      <td>10343.0</td>\n",
       "      <td>2.0</td>\n",
       "    </tr>\n",
       "    <tr>\n",
       "      <th>81733</th>\n",
       "      <td>Microglia</td>\n",
       "      <td>Aged_50</td>\n",
       "      <td>10526.0</td>\n",
       "      <td>2.0</td>\n",
       "    </tr>\n",
       "    <tr>\n",
       "      <th>81734</th>\n",
       "      <td>Microglia</td>\n",
       "      <td>Aged_50</td>\n",
       "      <td>10206.0</td>\n",
       "      <td>2.0</td>\n",
       "    </tr>\n",
       "    <tr>\n",
       "      <th>81735</th>\n",
       "      <td>Microglia</td>\n",
       "      <td>Aged_50</td>\n",
       "      <td>10360.0</td>\n",
       "      <td>2.0</td>\n",
       "    </tr>\n",
       "  </tbody>\n",
       "</table>\n",
       "<p>81736 rows × 4 columns</p>\n",
       "</div>"
      ],
      "text/plain": [
       "       cell_type  Age_Time  total_UMI   TOD\n",
       "0        Neurons  Adult_18    18239.0  18.0\n",
       "1        Neurons  Adult_54    10426.0   6.0\n",
       "2        Neurons   Aged_26    14542.0   2.0\n",
       "3        Neurons  Adult_38    11344.0  14.0\n",
       "4        Neurons  Adult_38    11368.0  14.0\n",
       "...          ...       ...        ...   ...\n",
       "81731  Microglia   Aged_50    11424.0   2.0\n",
       "81732  Microglia   Aged_50    10343.0   2.0\n",
       "81733  Microglia   Aged_50    10526.0   2.0\n",
       "81734  Microglia   Aged_50    10206.0   2.0\n",
       "81735  Microglia   Aged_50    10360.0   2.0\n",
       "\n",
       "[81736 rows x 4 columns]"
      ]
     },
     "execution_count": 60,
     "metadata": {},
     "output_type": "execute_result"
    }
   ],
   "source": [
    "adata.obs"
   ]
  },
  {
   "cell_type": "code",
   "execution_count": 61,
   "id": "f167e58f-6e31-41a4-bb5a-32580e2d077e",
   "metadata": {},
   "outputs": [],
   "source": [
    "Microglia_adata = adata[adata.obs['cell_type'] == 'Microglia']"
   ]
  },
  {
   "cell_type": "code",
   "execution_count": 129,
   "id": "c8386e19-1421-48d5-b3a4-2ea3231b1018",
   "metadata": {},
   "outputs": [],
   "source": [
    "Astrocyte_adata = adata[adata.obs['cell_type'] == 'Astrocyte']"
   ]
  },
  {
   "cell_type": "markdown",
   "id": "b768fc23-367f-401d-b588-592ef1e31517",
   "metadata": {},
   "source": [
    "# ANN define"
   ]
  },
  {
   "cell_type": "code",
   "execution_count": 7,
   "id": "bb94bf3f-ddcd-4d69-aa33-f9076dbb4daf",
   "metadata": {},
   "outputs": [],
   "source": [
    "# Define dataset: expression matrix + times\n",
    "class CircadianDataset(Dataset):\n",
    "    def __init__(self, expr_matrix, times):\n",
    "        \"\"\"\n",
    "        expr_matrix: numpy array of shape (N_cells, N_genes)\n",
    "        times: numpy array of shape (N_cells,), use \"hours\" as unit, range: [0,24)\n",
    "        \"\"\"\n",
    "        # Original expression matrix (float32), each row represents a cell and each column represents a gene\n",
    "        self.X = expr_matrix.astype(np.float32)\n",
    "\n",
    "        # Map the time from [0,24) to the Angle [0,2 π) on the circle and calculate sin/cos as the model label\n",
    "        # This avoids the breakpoint problem of 23h ↔ 1h\n",
    "        radians = times / 24.0 * 2 * np.pi\n",
    "        self.y = np.stack([np.sin(radians), np.cos(radians)], axis=1).astype(np.float32)\n",
    "\n",
    "    def __len__(self):\n",
    "        return len(self.X)\n",
    "\n",
    "    def __getitem__(self, idx):\n",
    "        # Return (expression_vector, [sin(time), cos(time)])\n",
    "        return self.X[idx], self.y[idx]"
   ]
  },
  {
   "cell_type": "code",
   "execution_count": 8,
   "id": "d22518cf-a847-490d-ac6d-0349a4dac4ec",
   "metadata": {},
   "outputs": [],
   "source": [
    "class CircadianNet(nn.Module):\n",
    "    def __init__(self, input_dim, hidden_dims=[256, 128], dropout=0.2):\n",
    "        super().__init__()\n",
    "        layers = []\n",
    "\n",
    "        # Feedforward Hidden Layer Design:\n",
    "            # - First layer: Mapping from input_dim (number of genes) to 256 neurons\n",
    "            # - Second Layer: 256 → 128\n",
    "        # After each layer, ReLU activation is connected to enhance the nonlinear expression capability\n",
    "        # And use Dropout(0.2) to prevent overfitting\n",
    "        prev_dim = input_dim\n",
    "        for h in hidden_dims:\n",
    "            layers.append(nn.Linear(prev_dim, h))  # Fully connected layer\n",
    "            layers.append(nn.ReLU())               # Activation function\n",
    "            layers.append(nn.Dropout(dropout))     # Random inactivation of 20%\n",
    "            prev_dim = h\n",
    "\n",
    "        # Output layer: Two neurons, corresponding respectively to sin(time) and cos(time)\n",
    "        layers.append(nn.Linear(prev_dim, 2))\n",
    "\n",
    "        # Combine all layers in sequence\n",
    "        self.model = nn.Sequential(*layers)\n",
    "\n",
    "    def forward(self, x):\n",
    "        return self.model(x)"
   ]
  },
  {
   "cell_type": "code",
   "execution_count": 9,
   "id": "a3485bff-e417-45fc-97d8-10e58f327bf5",
   "metadata": {},
   "outputs": [],
   "source": [
    "def train(model, dataloader, optimizer, criterion, device):\n",
    "    model.train()\n",
    "    total_loss = 0.0\n",
    "    for X_batch, y_batch in dataloader:\n",
    "        X_batch = X_batch.to(device)\n",
    "        y_batch = y_batch.to(device)\n",
    "\n",
    "        optimizer.zero_grad()\n",
    "        out = model(X_batch)\n",
    "        loss = criterion(out, y_batch)\n",
    "        loss.backward()\n",
    "        optimizer.step()\n",
    "\n",
    "        total_loss += loss.item() * X_batch.size(0)\n",
    "    # Return mean loss\n",
    "    return total_loss / len(dataloader.dataset)"
   ]
  },
  {
   "cell_type": "code",
   "execution_count": 10,
   "id": "4d72f4fe-d455-4c16-961c-f28f2b7f199c",
   "metadata": {},
   "outputs": [],
   "source": [
    "def circular_mae(pred, true):\n",
    "    \"\"\"\n",
    "    Calculate the Circular mean absolute error (Circular MAE) and the predicted sin/cos vector\n",
    "    After converting to an Angle, calculate the minimum radian difference from the true Angle and then convert it to hours.\n",
    "    \"\"\"\n",
    "    # atan2 param：sin, cos\n",
    "    ang_pred = torch.atan2(pred[:,0], pred[:,1])\n",
    "    ang_true = torch.atan2(true[:,0], true[:,1])\n",
    "    # Normalize errors to [-π, π]\n",
    "    diff = torch.remainder(ang_pred - ang_true + np.pi, 2*np.pi) - np.pi\n",
    "    # Convert the radians to hours，24h correspondes to 2π\n",
    "    return torch.mean(torch.abs(diff)) * (24/(2*np.pi))"
   ]
  },
  {
   "cell_type": "code",
   "execution_count": 26,
   "id": "f6537416-b6d9-4fca-a74c-6395026a20bc",
   "metadata": {},
   "outputs": [],
   "source": [
    "def evaluate(model, dataloader, device):\n",
    "    model.eval()\n",
    "    total_mae = 0.0\n",
    "    with torch.no_grad():\n",
    "        for X_batch, y_batch in dataloader:\n",
    "            X_batch = X_batch.to(device)\n",
    "            y_batch = y_batch.to(device)\n",
    "            out = model(X_batch)\n",
    "            total_mae += circular_mae(out, y_batch).item() * X_batch.size(0)\n",
    "    return total_mae / len(dataloader.dataset)"
   ]
  },
  {
   "cell_type": "markdown",
   "id": "32de1110-7111-4496-a8a8-f85780442dab",
   "metadata": {},
   "source": [
    "# ANN training"
   ]
  },
  {
   "cell_type": "markdown",
   "id": "92448f6e-f78d-430d-bf22-3ac58818f382",
   "metadata": {},
   "source": [
    "## Microglia"
   ]
  },
  {
   "cell_type": "markdown",
   "id": "1314abf6-081d-4960-9132-fcc8507ab913",
   "metadata": {},
   "source": [
    "### Training & Validation"
   ]
  },
  {
   "cell_type": "code",
   "execution_count": 75,
   "id": "aaec7171-8575-4e46-bdca-494074cad3cc",
   "metadata": {},
   "outputs": [
    {
     "data": {
      "text/plain": [
       "View of AnnData object with n_obs × n_vars = 9115 × 55416\n",
       "    obs: 'cell_type', 'Age_Time', 'total_UMI', 'TOD'\n",
       "    var: 'gene_id', 'gene_type', 'gene_name'"
      ]
     },
     "execution_count": 75,
     "metadata": {},
     "output_type": "execute_result"
    }
   ],
   "source": [
    "Microglia_adata"
   ]
  },
  {
   "cell_type": "code",
   "execution_count": 64,
   "id": "d177f17e-884b-4bdc-959a-1d1e6f31a231",
   "metadata": {},
   "outputs": [
    {
     "data": {
      "text/html": [
       "<div>\n",
       "<style scoped>\n",
       "    .dataframe tbody tr th:only-of-type {\n",
       "        vertical-align: middle;\n",
       "    }\n",
       "\n",
       "    .dataframe tbody tr th {\n",
       "        vertical-align: top;\n",
       "    }\n",
       "\n",
       "    .dataframe thead th {\n",
       "        text-align: right;\n",
       "    }\n",
       "</style>\n",
       "<table border=\"1\" class=\"dataframe\">\n",
       "  <thead>\n",
       "    <tr style=\"text-align: right;\">\n",
       "      <th></th>\n",
       "      <th>cell_type</th>\n",
       "      <th>Age_Time</th>\n",
       "      <th>total_UMI</th>\n",
       "      <th>TOD</th>\n",
       "    </tr>\n",
       "  </thead>\n",
       "  <tbody>\n",
       "    <tr>\n",
       "      <th>72621</th>\n",
       "      <td>Microglia</td>\n",
       "      <td>Adult_54</td>\n",
       "      <td>10951.0</td>\n",
       "      <td>6.0</td>\n",
       "    </tr>\n",
       "    <tr>\n",
       "      <th>72622</th>\n",
       "      <td>Microglia</td>\n",
       "      <td>Adult_54</td>\n",
       "      <td>11212.0</td>\n",
       "      <td>6.0</td>\n",
       "    </tr>\n",
       "    <tr>\n",
       "      <th>72623</th>\n",
       "      <td>Microglia</td>\n",
       "      <td>Adult_54</td>\n",
       "      <td>11503.0</td>\n",
       "      <td>6.0</td>\n",
       "    </tr>\n",
       "    <tr>\n",
       "      <th>72624</th>\n",
       "      <td>Microglia</td>\n",
       "      <td>Adult_54</td>\n",
       "      <td>10004.0</td>\n",
       "      <td>6.0</td>\n",
       "    </tr>\n",
       "    <tr>\n",
       "      <th>72625</th>\n",
       "      <td>Microglia</td>\n",
       "      <td>Adult_54</td>\n",
       "      <td>10687.0</td>\n",
       "      <td>6.0</td>\n",
       "    </tr>\n",
       "    <tr>\n",
       "      <th>...</th>\n",
       "      <td>...</td>\n",
       "      <td>...</td>\n",
       "      <td>...</td>\n",
       "      <td>...</td>\n",
       "    </tr>\n",
       "    <tr>\n",
       "      <th>81731</th>\n",
       "      <td>Microglia</td>\n",
       "      <td>Aged_50</td>\n",
       "      <td>11424.0</td>\n",
       "      <td>2.0</td>\n",
       "    </tr>\n",
       "    <tr>\n",
       "      <th>81732</th>\n",
       "      <td>Microglia</td>\n",
       "      <td>Aged_50</td>\n",
       "      <td>10343.0</td>\n",
       "      <td>2.0</td>\n",
       "    </tr>\n",
       "    <tr>\n",
       "      <th>81733</th>\n",
       "      <td>Microglia</td>\n",
       "      <td>Aged_50</td>\n",
       "      <td>10526.0</td>\n",
       "      <td>2.0</td>\n",
       "    </tr>\n",
       "    <tr>\n",
       "      <th>81734</th>\n",
       "      <td>Microglia</td>\n",
       "      <td>Aged_50</td>\n",
       "      <td>10206.0</td>\n",
       "      <td>2.0</td>\n",
       "    </tr>\n",
       "    <tr>\n",
       "      <th>81735</th>\n",
       "      <td>Microglia</td>\n",
       "      <td>Aged_50</td>\n",
       "      <td>10360.0</td>\n",
       "      <td>2.0</td>\n",
       "    </tr>\n",
       "  </tbody>\n",
       "</table>\n",
       "<p>9115 rows × 4 columns</p>\n",
       "</div>"
      ],
      "text/plain": [
       "       cell_type  Age_Time  total_UMI  TOD\n",
       "72621  Microglia  Adult_54    10951.0  6.0\n",
       "72622  Microglia  Adult_54    11212.0  6.0\n",
       "72623  Microglia  Adult_54    11503.0  6.0\n",
       "72624  Microglia  Adult_54    10004.0  6.0\n",
       "72625  Microglia  Adult_54    10687.0  6.0\n",
       "...          ...       ...        ...  ...\n",
       "81731  Microglia   Aged_50    11424.0  2.0\n",
       "81732  Microglia   Aged_50    10343.0  2.0\n",
       "81733  Microglia   Aged_50    10526.0  2.0\n",
       "81734  Microglia   Aged_50    10206.0  2.0\n",
       "81735  Microglia   Aged_50    10360.0  2.0\n",
       "\n",
       "[9115 rows x 4 columns]"
      ]
     },
     "execution_count": 64,
     "metadata": {},
     "output_type": "execute_result"
    }
   ],
   "source": [
    "Microglia_adata.obs"
   ]
  },
  {
   "cell_type": "code",
   "execution_count": 76,
   "id": "f6f70c54-2b0c-4b50-9702-5a6e3656d8fc",
   "metadata": {},
   "outputs": [
    {
     "data": {
      "text/plain": [
       "Index(['74236', '80548', '78590', '80718', '78746', '80408', '74428', '81400',\n",
       "       '76913', '77182',\n",
       "       ...\n",
       "       '74231', '80024', '78437', '77298', '77580', '80586', '77382', '74815',\n",
       "       '79205', '77734'],\n",
       "      dtype='object', length=5469)"
      ]
     },
     "execution_count": 76,
     "metadata": {},
     "output_type": "execute_result"
    }
   ],
   "source": [
    "sampled_indices = Microglia_adata.obs.sample(frac=0.6, random_state=42).index\n",
    "sampled_indices"
   ]
  },
  {
   "cell_type": "code",
   "execution_count": 77,
   "id": "d01e8c70-f552-4b07-bc1f-532c43b958cc",
   "metadata": {},
   "outputs": [],
   "source": [
    "Microglia_adata_training = Microglia_adata[sampled_indices, :].copy()"
   ]
  },
  {
   "cell_type": "code",
   "execution_count": 78,
   "id": "ff66ff24-4901-4da9-98e4-0375e6588a16",
   "metadata": {},
   "outputs": [
    {
     "data": {
      "text/plain": [
       "AnnData object with n_obs × n_vars = 5469 × 55416\n",
       "    obs: 'cell_type', 'Age_Time', 'total_UMI', 'TOD'\n",
       "    var: 'gene_id', 'gene_type', 'gene_name'"
      ]
     },
     "execution_count": 78,
     "metadata": {},
     "output_type": "execute_result"
    }
   ],
   "source": [
    "Microglia_adata_training"
   ]
  },
  {
   "cell_type": "code",
   "execution_count": 79,
   "id": "ee145208-fc40-4117-9522-5cfa5f9e73a0",
   "metadata": {},
   "outputs": [
    {
     "data": {
      "text/html": [
       "<div>\n",
       "<style scoped>\n",
       "    .dataframe tbody tr th:only-of-type {\n",
       "        vertical-align: middle;\n",
       "    }\n",
       "\n",
       "    .dataframe tbody tr th {\n",
       "        vertical-align: top;\n",
       "    }\n",
       "\n",
       "    .dataframe thead th {\n",
       "        text-align: right;\n",
       "    }\n",
       "</style>\n",
       "<table border=\"1\" class=\"dataframe\">\n",
       "  <thead>\n",
       "    <tr style=\"text-align: right;\">\n",
       "      <th></th>\n",
       "      <th>cell_type</th>\n",
       "      <th>Age_Time</th>\n",
       "      <th>total_UMI</th>\n",
       "      <th>TOD</th>\n",
       "    </tr>\n",
       "  </thead>\n",
       "  <tbody>\n",
       "    <tr>\n",
       "      <th>74236</th>\n",
       "      <td>Microglia</td>\n",
       "      <td>Adult_50</td>\n",
       "      <td>10122.0</td>\n",
       "      <td>2.0</td>\n",
       "    </tr>\n",
       "    <tr>\n",
       "      <th>80548</th>\n",
       "      <td>Microglia</td>\n",
       "      <td>Aged_62</td>\n",
       "      <td>10118.0</td>\n",
       "      <td>14.0</td>\n",
       "    </tr>\n",
       "    <tr>\n",
       "      <th>78590</th>\n",
       "      <td>Microglia</td>\n",
       "      <td>Aged_30</td>\n",
       "      <td>10479.0</td>\n",
       "      <td>6.0</td>\n",
       "    </tr>\n",
       "    <tr>\n",
       "      <th>80718</th>\n",
       "      <td>Microglia</td>\n",
       "      <td>Aged_62</td>\n",
       "      <td>10246.0</td>\n",
       "      <td>14.0</td>\n",
       "    </tr>\n",
       "    <tr>\n",
       "      <th>78746</th>\n",
       "      <td>Microglia</td>\n",
       "      <td>Aged_30</td>\n",
       "      <td>10353.0</td>\n",
       "      <td>6.0</td>\n",
       "    </tr>\n",
       "    <tr>\n",
       "      <th>...</th>\n",
       "      <td>...</td>\n",
       "      <td>...</td>\n",
       "      <td>...</td>\n",
       "      <td>...</td>\n",
       "    </tr>\n",
       "    <tr>\n",
       "      <th>80586</th>\n",
       "      <td>Microglia</td>\n",
       "      <td>Aged_62</td>\n",
       "      <td>10136.0</td>\n",
       "      <td>14.0</td>\n",
       "    </tr>\n",
       "    <tr>\n",
       "      <th>77382</th>\n",
       "      <td>Microglia</td>\n",
       "      <td>Adult_62</td>\n",
       "      <td>10431.0</td>\n",
       "      <td>14.0</td>\n",
       "    </tr>\n",
       "    <tr>\n",
       "      <th>74815</th>\n",
       "      <td>Microglia</td>\n",
       "      <td>Adult_34</td>\n",
       "      <td>10758.0</td>\n",
       "      <td>10.0</td>\n",
       "    </tr>\n",
       "    <tr>\n",
       "      <th>79205</th>\n",
       "      <td>Microglia</td>\n",
       "      <td>Aged_22</td>\n",
       "      <td>10288.0</td>\n",
       "      <td>22.0</td>\n",
       "    </tr>\n",
       "    <tr>\n",
       "      <th>77734</th>\n",
       "      <td>Microglia</td>\n",
       "      <td>Aged_34</td>\n",
       "      <td>10410.0</td>\n",
       "      <td>10.0</td>\n",
       "    </tr>\n",
       "  </tbody>\n",
       "</table>\n",
       "<p>5469 rows × 4 columns</p>\n",
       "</div>"
      ],
      "text/plain": [
       "       cell_type  Age_Time  total_UMI   TOD\n",
       "74236  Microglia  Adult_50    10122.0   2.0\n",
       "80548  Microglia   Aged_62    10118.0  14.0\n",
       "78590  Microglia   Aged_30    10479.0   6.0\n",
       "80718  Microglia   Aged_62    10246.0  14.0\n",
       "78746  Microglia   Aged_30    10353.0   6.0\n",
       "...          ...       ...        ...   ...\n",
       "80586  Microglia   Aged_62    10136.0  14.0\n",
       "77382  Microglia  Adult_62    10431.0  14.0\n",
       "74815  Microglia  Adult_34    10758.0  10.0\n",
       "79205  Microglia   Aged_22    10288.0  22.0\n",
       "77734  Microglia   Aged_34    10410.0  10.0\n",
       "\n",
       "[5469 rows x 4 columns]"
      ]
     },
     "execution_count": 79,
     "metadata": {},
     "output_type": "execute_result"
    }
   ],
   "source": [
    "Microglia_adata_training.obs"
   ]
  },
  {
   "cell_type": "code",
   "execution_count": 176,
   "id": "03b9590d-d6ba-4029-9fa8-7a7f288b06a8",
   "metadata": {},
   "outputs": [],
   "source": [
    "expr_matrix = Microglia_adata_training.X.toarray()"
   ]
  },
  {
   "cell_type": "code",
   "execution_count": 177,
   "id": "32a0f2e1-df7c-4a99-ac40-c97e9c0a33c4",
   "metadata": {},
   "outputs": [
    {
     "data": {
      "text/plain": [
       "array([[0., 0., 3., ..., 0., 0., 0.],\n",
       "       [0., 0., 1., ..., 0., 0., 5.],\n",
       "       [0., 0., 3., ..., 0., 0., 2.],\n",
       "       ...,\n",
       "       [0., 0., 1., ..., 0., 0., 9.],\n",
       "       [0., 0., 0., ..., 0., 0., 3.],\n",
       "       [0., 0., 1., ..., 0., 0., 3.]], shape=(5469, 55416), dtype=float32)"
      ]
     },
     "execution_count": 177,
     "metadata": {},
     "output_type": "execute_result"
    }
   ],
   "source": [
    "expr_matrix"
   ]
  },
  {
   "cell_type": "code",
   "execution_count": 178,
   "id": "0138486d-bb81-4615-91d0-32f876fc3cec",
   "metadata": {},
   "outputs": [],
   "source": [
    "N_cells, N_genes = expr_matrix.shape"
   ]
  },
  {
   "cell_type": "code",
   "execution_count": 179,
   "id": "4b27f926-513f-4366-a8e7-25f9bdcfaf4a",
   "metadata": {
    "scrolled": true
   },
   "outputs": [],
   "source": [
    "times = Microglia_adata_training.obs['TOD']"
   ]
  },
  {
   "cell_type": "code",
   "execution_count": 180,
   "id": "2c27c45f-8da8-4460-bca8-e7725d8e3ddb",
   "metadata": {},
   "outputs": [
    {
     "data": {
      "text/plain": [
       "74236     2.0\n",
       "80548    14.0\n",
       "78590     6.0\n",
       "80718    14.0\n",
       "78746     6.0\n",
       "         ... \n",
       "80586    14.0\n",
       "77382    14.0\n",
       "74815    10.0\n",
       "79205    22.0\n",
       "77734    10.0\n",
       "Name: TOD, Length: 5469, dtype: float64"
      ]
     },
     "execution_count": 180,
     "metadata": {},
     "output_type": "execute_result"
    }
   ],
   "source": [
    "times"
   ]
  },
  {
   "cell_type": "code",
   "execution_count": 181,
   "id": "74b51391-702e-4423-bfd9-4f8e63144216",
   "metadata": {},
   "outputs": [],
   "source": [
    "dataset = CircadianDataset(expr_matrix, times)"
   ]
  },
  {
   "cell_type": "code",
   "execution_count": 182,
   "id": "c267563c-3d76-46ce-9099-ed4a1788e3d8",
   "metadata": {},
   "outputs": [],
   "source": [
    "n_train = int(0.8 * len(dataset))\n",
    "n_val = len(dataset) - n_train\n",
    "train_ds, val_ds = torch.utils.data.random_split(dataset, [n_train, n_val])\n",
    "train_loader = DataLoader(train_ds, batch_size=32, shuffle=True)\n",
    "val_loader = DataLoader(val_ds, batch_size=32)"
   ]
  },
  {
   "cell_type": "code",
   "execution_count": 183,
   "id": "236a1ef9-3e3d-4c69-8594-5dad33524c7c",
   "metadata": {},
   "outputs": [],
   "source": [
    "device = torch.device('cuda' if torch.cuda.is_available() else 'cpu')"
   ]
  },
  {
   "cell_type": "code",
   "execution_count": 184,
   "id": "ef29d7cf-3664-4771-b836-93d917480e82",
   "metadata": {},
   "outputs": [],
   "source": [
    "# Model Instantiation: The input dimension is the number of genes\n",
    "model = CircadianNet(input_dim=N_genes).to(device)\n",
    "# Loss Function: MSE is most commonly used in the sin/cos space\n",
    "criterion = nn.MSELoss()\n",
    "# Optimizer: Adam Adaptive Learning Rate\n",
    "optimizer = optim.Adam(model.parameters(), lr=1e-3)"
   ]
  },
  {
   "cell_type": "code",
   "execution_count": 185,
   "id": "df576a1c-9f18-4bb2-861a-8db5ae9dee1e",
   "metadata": {},
   "outputs": [
    {
     "name": "stdout",
     "output_type": "stream",
     "text": [
      "Training cycle 01:   Epoch 01  Train Loss: 0.7552  Val Circular MAE: 4.7578 hours\n",
      "Training cycle 01:   Epoch 02  Train Loss: 0.4661  Val Circular MAE: 5.7103 hours\n",
      "Training cycle 01:   Epoch 03  Train Loss: 0.4493  Val Circular MAE: 4.4124 hours\n",
      "Training cycle 01:   Epoch 04  Train Loss: 0.3586  Val Circular MAE: 3.1560 hours\n",
      "Training cycle 01:   Epoch 05  Train Loss: 0.2945  Val Circular MAE: 2.7715 hours\n",
      "Training cycle 01:   Epoch 06  Train Loss: 0.2457  Val Circular MAE: 2.5244 hours\n",
      "Training cycle 01:   Epoch 07  Train Loss: 0.2363  Val Circular MAE: 2.3883 hours\n",
      "Training cycle 01:   Epoch 08  Train Loss: 0.2117  Val Circular MAE: 2.5816 hours\n",
      "Training cycle 01:   Epoch 09  Train Loss: 0.2025  Val Circular MAE: 2.6565 hours\n",
      "Training cycle 01:   Epoch 10  Train Loss: 0.2072  Val Circular MAE: 2.5706 hours\n",
      "Training cycle 01:   Epoch 11  Train Loss: 0.2006  Val Circular MAE: 2.7941 hours\n",
      "Training cycle 01:   Epoch 12  Train Loss: 0.2014  Val Circular MAE: 2.7587 hours\n",
      "Training cycle 01:   Epoch 13  Train Loss: 0.1873  Val Circular MAE: 2.7689 hours\n",
      "Training cycle 01:   Epoch 14  Train Loss: 0.1874  Val Circular MAE: 2.5870 hours\n",
      "Training cycle 01:   Epoch 15  Train Loss: 0.1860  Val Circular MAE: 2.6254 hours\n",
      "Training cycle 01:   Epoch 16  Train Loss: 0.1830  Val Circular MAE: 2.5363 hours\n",
      "Training cycle 01:   Epoch 17  Train Loss: 0.1847  Val Circular MAE: 2.7056 hours\n",
      "Training cycle 01:   Epoch 18  Train Loss: 0.1726  Val Circular MAE: 2.5655 hours\n",
      "Training cycle 01:   Epoch 19  Train Loss: 0.1907  Val Circular MAE: 3.2454 hours\n",
      "Training cycle 01:   Epoch 20  Train Loss: 0.1695  Val Circular MAE: 3.0841 hours\n",
      "Training cycle 01:   Epoch 21  Train Loss: 0.1687  Val Circular MAE: 3.2607 hours\n",
      "Training cycle 01:   Epoch 22  Train Loss: 0.1714  Val Circular MAE: 2.7168 hours\n",
      "Training cycle 01:   Epoch 23  Train Loss: 0.1651  Val Circular MAE: 2.9669 hours\n",
      "Training cycle 01:   Epoch 24  Train Loss: 0.1715  Val Circular MAE: 3.2131 hours\n",
      "Training cycle 01:   Epoch 25  Train Loss: 0.1629  Val Circular MAE: 2.8098 hours\n",
      "Training cycle 01:   Epoch 26  Train Loss: 0.1577  Val Circular MAE: 2.6957 hours\n",
      "Training cycle 01:   Epoch 27  Train Loss: 0.1543  Val Circular MAE: 2.8093 hours\n",
      "Training cycle 01:   Epoch 28  Train Loss: 0.1578  Val Circular MAE: 2.9497 hours\n",
      "Training cycle 01:   Epoch 29  Train Loss: 0.1528  Val Circular MAE: 2.9124 hours\n",
      "Training cycle 01:   Epoch 30  Train Loss: 0.1807  Val Circular MAE: 2.7929 hours\n",
      "Training cycle 01:   Epoch 31  Train Loss: 0.1649  Val Circular MAE: 2.5675 hours\n",
      "Training cycle 01:   Epoch 32  Train Loss: 0.1580  Val Circular MAE: 2.6779 hours\n",
      "Training cycle 01:   Epoch 33  Train Loss: 0.1478  Val Circular MAE: 2.9982 hours\n",
      "Training cycle 01:   Epoch 34  Train Loss: 0.1431  Val Circular MAE: 2.8248 hours\n",
      "Training cycle 01:   Epoch 35  Train Loss: 0.1459  Val Circular MAE: 2.8592 hours\n",
      "Training cycle 01:   Epoch 36  Train Loss: 0.1642  Val Circular MAE: 2.6482 hours\n",
      "Training cycle 01:   Epoch 37  Train Loss: 0.1661  Val Circular MAE: 2.6975 hours\n",
      "Training cycle 01:   Epoch 38  Train Loss: 0.1506  Val Circular MAE: 3.0080 hours\n",
      "Training cycle 01:   Epoch 39  Train Loss: 0.1461  Val Circular MAE: 2.7102 hours\n",
      "Training cycle 01:   Epoch 40  Train Loss: 0.1452  Val Circular MAE: 2.8509 hours\n",
      "Training cycle 01:   Epoch 41  Train Loss: 0.1428  Val Circular MAE: 3.1639 hours\n",
      "Training cycle 01:   Epoch 42  Train Loss: 0.1521  Val Circular MAE: 2.9145 hours\n",
      "Training cycle 01:   Epoch 43  Train Loss: 0.1437  Val Circular MAE: 2.9441 hours\n",
      "Training cycle 01:   Epoch 44  Train Loss: 0.1611  Val Circular MAE: 2.8620 hours\n",
      "Training cycle 01:   Epoch 45  Train Loss: 0.1507  Val Circular MAE: 3.2059 hours\n",
      "Training cycle 01:   Epoch 46  Train Loss: 0.1451  Val Circular MAE: 2.8120 hours\n",
      "Training cycle 01:   Epoch 47  Train Loss: 0.1450  Val Circular MAE: 2.8156 hours\n",
      "Training cycle 01:   Epoch 48  Train Loss: 0.1358  Val Circular MAE: 2.8717 hours\n",
      "Training cycle 01:   Epoch 49  Train Loss: 0.1377  Val Circular MAE: 2.9759 hours\n",
      "Training cycle 01:   Epoch 50  Train Loss: 0.1668  Val Circular MAE: 2.9470 hours\n",
      "\n",
      "\n",
      "Training # 1 failed! Restart the # 2 training cycle ... \n",
      "\n",
      "Training cycle 02:   Epoch 01  Train Loss: 1.0867  Val Circular MAE: 4.7811 hours\n",
      "Training cycle 02:   Epoch 02  Train Loss: 0.4682  Val Circular MAE: 5.6085 hours\n",
      "Training cycle 02:   Epoch 03  Train Loss: 0.4647  Val Circular MAE: 4.4729 hours\n",
      "Training cycle 02:   Epoch 04  Train Loss: 0.4128  Val Circular MAE: 4.0618 hours\n",
      "Training cycle 02:   Epoch 05  Train Loss: 0.3817  Val Circular MAE: 3.8740 hours\n",
      "Training cycle 02:   Epoch 06  Train Loss: 0.3719  Val Circular MAE: 3.7643 hours\n",
      "Training cycle 02:   Epoch 07  Train Loss: 0.3636  Val Circular MAE: 3.7904 hours\n",
      "Training cycle 02:   Epoch 08  Train Loss: 0.3496  Val Circular MAE: 3.9383 hours\n",
      "Training cycle 02:   Epoch 09  Train Loss: 0.3466  Val Circular MAE: 3.9769 hours\n",
      "Training cycle 02:   Epoch 10  Train Loss: 0.3480  Val Circular MAE: 3.8756 hours\n",
      "Training cycle 02:   Epoch 11  Train Loss: 0.3391  Val Circular MAE: 4.3258 hours\n",
      "Training cycle 02:   Epoch 12  Train Loss: 0.3385  Val Circular MAE: 3.9001 hours\n",
      "Training cycle 02:   Epoch 13  Train Loss: 0.3504  Val Circular MAE: 3.9870 hours\n",
      "Training cycle 02:   Epoch 14  Train Loss: 0.3377  Val Circular MAE: 3.8970 hours\n",
      "Training cycle 02:   Epoch 15  Train Loss: 0.3419  Val Circular MAE: 3.9490 hours\n",
      "Training cycle 02:   Epoch 16  Train Loss: 0.3398  Val Circular MAE: 4.0002 hours\n",
      "Training cycle 02:   Epoch 17  Train Loss: 0.3260  Val Circular MAE: 4.1006 hours\n",
      "Training cycle 02:   Epoch 18  Train Loss: 0.3292  Val Circular MAE: 4.0705 hours\n",
      "Training cycle 02:   Epoch 19  Train Loss: 0.3175  Val Circular MAE: 4.2402 hours\n",
      "Training cycle 02:   Epoch 20  Train Loss: 0.3065  Val Circular MAE: 4.2376 hours\n",
      "Training cycle 02:   Epoch 21  Train Loss: 0.2832  Val Circular MAE: 4.3232 hours\n",
      "Training cycle 02:   Epoch 22  Train Loss: 0.2869  Val Circular MAE: 4.4891 hours\n",
      "Training cycle 02:   Epoch 23  Train Loss: 0.2893  Val Circular MAE: 4.3973 hours\n",
      "Training cycle 02:   Epoch 24  Train Loss: 0.2666  Val Circular MAE: 4.3284 hours\n",
      "Training cycle 02:   Epoch 25  Train Loss: 0.2621  Val Circular MAE: 4.3859 hours\n",
      "Training cycle 02:   Epoch 26  Train Loss: 0.2907  Val Circular MAE: 4.2737 hours\n",
      "Training cycle 02:   Epoch 27  Train Loss: 0.2725  Val Circular MAE: 4.3112 hours\n",
      "Training cycle 02:   Epoch 28  Train Loss: 0.2555  Val Circular MAE: 4.3119 hours\n",
      "Training cycle 02:   Epoch 29  Train Loss: 0.2531  Val Circular MAE: 4.3337 hours\n",
      "Training cycle 02:   Epoch 30  Train Loss: 0.2531  Val Circular MAE: 4.4156 hours\n",
      "Training cycle 02:   Epoch 31  Train Loss: 0.2493  Val Circular MAE: 4.3750 hours\n",
      "Training cycle 02:   Epoch 32  Train Loss: 0.2513  Val Circular MAE: 4.3988 hours\n",
      "Training cycle 02:   Epoch 33  Train Loss: 0.2404  Val Circular MAE: 4.3390 hours\n",
      "Training cycle 02:   Epoch 34  Train Loss: 0.2391  Val Circular MAE: 4.3612 hours\n",
      "Training cycle 02:   Epoch 35  Train Loss: 0.2318  Val Circular MAE: 4.3555 hours\n",
      "Training cycle 02:   Epoch 36  Train Loss: 0.2282  Val Circular MAE: 4.3565 hours\n",
      "Training cycle 02:   Epoch 37  Train Loss: 0.2409  Val Circular MAE: 4.3651 hours\n",
      "Training cycle 02:   Epoch 38  Train Loss: 0.2321  Val Circular MAE: 4.3335 hours\n",
      "Training cycle 02:   Epoch 39  Train Loss: 0.2204  Val Circular MAE: 4.3497 hours\n",
      "Training cycle 02:   Epoch 40  Train Loss: 0.2346  Val Circular MAE: 4.3419 hours\n",
      "Training cycle 02:   Epoch 41  Train Loss: 0.2309  Val Circular MAE: 4.3843 hours\n",
      "Training cycle 02:   Epoch 42  Train Loss: 0.2266  Val Circular MAE: 4.3676 hours\n",
      "Training cycle 02:   Epoch 43  Train Loss: 0.2257  Val Circular MAE: 4.2737 hours\n",
      "Training cycle 02:   Epoch 44  Train Loss: 0.2209  Val Circular MAE: 4.3086 hours\n",
      "Training cycle 02:   Epoch 45  Train Loss: 0.2259  Val Circular MAE: 4.3333 hours\n",
      "Training cycle 02:   Epoch 46  Train Loss: 0.2489  Val Circular MAE: 4.2896 hours\n",
      "Training cycle 02:   Epoch 47  Train Loss: 0.2214  Val Circular MAE: 4.4170 hours\n",
      "Training cycle 02:   Epoch 48  Train Loss: 0.2290  Val Circular MAE: 4.3839 hours\n",
      "Training cycle 02:   Epoch 49  Train Loss: 0.2329  Val Circular MAE: 4.3510 hours\n",
      "Training cycle 02:   Epoch 50  Train Loss: 0.2269  Val Circular MAE: 4.2957 hours\n",
      "\n",
      "\n",
      "Training # 2 failed! Restart the # 3 training cycle ... \n",
      "\n",
      "Training cycle 03:   Epoch 01  Train Loss: 0.8749  Val Circular MAE: 4.6197 hours\n",
      "Training cycle 03:   Epoch 02  Train Loss: 0.4708  Val Circular MAE: 3.5031 hours\n",
      "Training cycle 03:   Epoch 03  Train Loss: 0.3736  Val Circular MAE: 3.4802 hours\n",
      "Training cycle 03:   Epoch 04  Train Loss: 0.3597  Val Circular MAE: 4.5314 hours\n",
      "Training cycle 03:   Epoch 05  Train Loss: 0.3260  Val Circular MAE: 3.9412 hours\n",
      "Training cycle 03:   Epoch 06  Train Loss: 0.2553  Val Circular MAE: 2.4745 hours\n",
      "Training cycle 03:   Epoch 07  Train Loss: 0.2171  Val Circular MAE: 2.7153 hours\n",
      "Training cycle 03:   Epoch 08  Train Loss: 0.1939  Val Circular MAE: 2.4159 hours\n",
      "Training cycle 03:   Epoch 09  Train Loss: 0.1866  Val Circular MAE: 2.8184 hours\n",
      "Training cycle 03:   Epoch 10  Train Loss: 0.1767  Val Circular MAE: 2.6808 hours\n",
      "Training cycle 03:   Epoch 11  Train Loss: 0.1625  Val Circular MAE: 2.4000 hours\n",
      "Training cycle 03:   Epoch 12  Train Loss: 0.1609  Val Circular MAE: 2.7863 hours\n",
      "Training cycle 03:   Epoch 13  Train Loss: 0.1686  Val Circular MAE: 2.5941 hours\n",
      "Training cycle 03:   Epoch 14  Train Loss: 0.1554  Val Circular MAE: 2.7956 hours\n",
      "Training cycle 03:   Epoch 15  Train Loss: 0.1614  Val Circular MAE: 2.3369 hours\n",
      "Training cycle 03:   Epoch 16  Train Loss: 0.1586  Val Circular MAE: 2.3850 hours\n"
     ]
    }
   ],
   "source": [
    "train_loss = 1\n",
    "val_mae = 10\n",
    "epoch = 1\n",
    "Training_cycle = 1\n",
    "\n",
    "while (not ((train_loss < 0.16) and (val_mae < 2.5))):\n",
    "    train_loss = train(model, train_loader, optimizer, criterion, device)\n",
    "    val_mae = evaluate(model, val_loader, device)\n",
    "    print(f\"Training cycle {Training_cycle:02d}:   Epoch {epoch:02d}  Train Loss: {train_loss:.4f}  Val Circular MAE: {val_mae:.4f} hours\")\n",
    "    epoch = epoch + 1\n",
    "    if epoch > 50: \n",
    "        print(f'\\n\\nTraining # {Training_cycle} failed! Restart the # {Training_cycle+1} training cycle ... \\n')\n",
    "        n_train = int(0.8 * len(dataset))\n",
    "        n_val = len(dataset) - n_train\n",
    "        train_ds, val_ds = torch.utils.data.random_split(dataset, [n_train, n_val])\n",
    "        train_loader = DataLoader(train_ds, batch_size=32, shuffle=True)\n",
    "        val_loader = DataLoader(val_ds, batch_size=32)\n",
    "        device = torch.device('cuda' if torch.cuda.is_available() else 'cpu')\n",
    "        # Model Instantiation: The input dimension is the number of genes\n",
    "        model = CircadianNet(input_dim=N_genes).to(device)\n",
    "        # Loss Function: MSE is most commonly used in the sin/cos space\n",
    "        criterion = nn.MSELoss()\n",
    "        # Optimizer: Adam Adaptive Learning Rate\n",
    "        optimizer = optim.Adam(model.parameters(), lr=1e-3)\n",
    "        epoch = 1\n",
    "        Training_cycle = Training_cycle + 1"
   ]
  },
  {
   "cell_type": "code",
   "execution_count": 186,
   "id": "61a99e2a-8a04-4349-a8c6-0995b04be3a3",
   "metadata": {},
   "outputs": [],
   "source": [
    "torch.save(model.state_dict(), './Model_param/ANN/Microglia.pth')"
   ]
  },
  {
   "cell_type": "markdown",
   "id": "9abcd458-2d57-4855-9651-19e2859101ba",
   "metadata": {},
   "source": [
    "### Testing"
   ]
  },
  {
   "cell_type": "code",
   "execution_count": 187,
   "id": "3775bac9-4221-46bf-91d4-9bba3746cbca",
   "metadata": {},
   "outputs": [],
   "source": [
    "remaining_indices = Microglia_adata.obs.index.difference(sampled_indices)"
   ]
  },
  {
   "cell_type": "code",
   "execution_count": 188,
   "id": "0c1a1761-93f4-4689-8c9d-97a60ffaa439",
   "metadata": {},
   "outputs": [
    {
     "data": {
      "text/plain": [
       "Index(['72621', '72622', '72623', '72624', '72625', '72626', '72627', '72628',\n",
       "       '72629', '72630',\n",
       "       ...\n",
       "       '81726', '81727', '81728', '81729', '81730', '81731', '81732', '81733',\n",
       "       '81734', '81735'],\n",
       "      dtype='object', length=9115)"
      ]
     },
     "execution_count": 188,
     "metadata": {},
     "output_type": "execute_result"
    }
   ],
   "source": [
    "remaining_indices"
   ]
  },
  {
   "cell_type": "code",
   "execution_count": 189,
   "id": "577bdc27-2a4b-481b-b227-b1b111720afd",
   "metadata": {},
   "outputs": [],
   "source": [
    "Microglia_adata_testing = Microglia_adata[remaining_indices, :].copy()"
   ]
  },
  {
   "cell_type": "code",
   "execution_count": 190,
   "id": "cfc053db-1f2d-4650-984e-055806b528fe",
   "metadata": {},
   "outputs": [
    {
     "data": {
      "text/html": [
       "<div>\n",
       "<style scoped>\n",
       "    .dataframe tbody tr th:only-of-type {\n",
       "        vertical-align: middle;\n",
       "    }\n",
       "\n",
       "    .dataframe tbody tr th {\n",
       "        vertical-align: top;\n",
       "    }\n",
       "\n",
       "    .dataframe thead th {\n",
       "        text-align: right;\n",
       "    }\n",
       "</style>\n",
       "<table border=\"1\" class=\"dataframe\">\n",
       "  <thead>\n",
       "    <tr style=\"text-align: right;\">\n",
       "      <th></th>\n",
       "      <th>cell_type</th>\n",
       "      <th>Age_Time</th>\n",
       "      <th>total_UMI</th>\n",
       "      <th>TOD</th>\n",
       "    </tr>\n",
       "  </thead>\n",
       "  <tbody>\n",
       "    <tr>\n",
       "      <th>72621</th>\n",
       "      <td>Microglia</td>\n",
       "      <td>Adult_54</td>\n",
       "      <td>10951.0</td>\n",
       "      <td>6.0</td>\n",
       "    </tr>\n",
       "    <tr>\n",
       "      <th>72622</th>\n",
       "      <td>Microglia</td>\n",
       "      <td>Adult_54</td>\n",
       "      <td>11212.0</td>\n",
       "      <td>6.0</td>\n",
       "    </tr>\n",
       "    <tr>\n",
       "      <th>72623</th>\n",
       "      <td>Microglia</td>\n",
       "      <td>Adult_54</td>\n",
       "      <td>11503.0</td>\n",
       "      <td>6.0</td>\n",
       "    </tr>\n",
       "    <tr>\n",
       "      <th>72624</th>\n",
       "      <td>Microglia</td>\n",
       "      <td>Adult_54</td>\n",
       "      <td>10004.0</td>\n",
       "      <td>6.0</td>\n",
       "    </tr>\n",
       "    <tr>\n",
       "      <th>72625</th>\n",
       "      <td>Microglia</td>\n",
       "      <td>Adult_54</td>\n",
       "      <td>10687.0</td>\n",
       "      <td>6.0</td>\n",
       "    </tr>\n",
       "    <tr>\n",
       "      <th>...</th>\n",
       "      <td>...</td>\n",
       "      <td>...</td>\n",
       "      <td>...</td>\n",
       "      <td>...</td>\n",
       "    </tr>\n",
       "    <tr>\n",
       "      <th>81731</th>\n",
       "      <td>Microglia</td>\n",
       "      <td>Aged_50</td>\n",
       "      <td>11424.0</td>\n",
       "      <td>2.0</td>\n",
       "    </tr>\n",
       "    <tr>\n",
       "      <th>81732</th>\n",
       "      <td>Microglia</td>\n",
       "      <td>Aged_50</td>\n",
       "      <td>10343.0</td>\n",
       "      <td>2.0</td>\n",
       "    </tr>\n",
       "    <tr>\n",
       "      <th>81733</th>\n",
       "      <td>Microglia</td>\n",
       "      <td>Aged_50</td>\n",
       "      <td>10526.0</td>\n",
       "      <td>2.0</td>\n",
       "    </tr>\n",
       "    <tr>\n",
       "      <th>81734</th>\n",
       "      <td>Microglia</td>\n",
       "      <td>Aged_50</td>\n",
       "      <td>10206.0</td>\n",
       "      <td>2.0</td>\n",
       "    </tr>\n",
       "    <tr>\n",
       "      <th>81735</th>\n",
       "      <td>Microglia</td>\n",
       "      <td>Aged_50</td>\n",
       "      <td>10360.0</td>\n",
       "      <td>2.0</td>\n",
       "    </tr>\n",
       "  </tbody>\n",
       "</table>\n",
       "<p>9115 rows × 4 columns</p>\n",
       "</div>"
      ],
      "text/plain": [
       "       cell_type  Age_Time  total_UMI  TOD\n",
       "72621  Microglia  Adult_54    10951.0  6.0\n",
       "72622  Microglia  Adult_54    11212.0  6.0\n",
       "72623  Microglia  Adult_54    11503.0  6.0\n",
       "72624  Microglia  Adult_54    10004.0  6.0\n",
       "72625  Microglia  Adult_54    10687.0  6.0\n",
       "...          ...       ...        ...  ...\n",
       "81731  Microglia   Aged_50    11424.0  2.0\n",
       "81732  Microglia   Aged_50    10343.0  2.0\n",
       "81733  Microglia   Aged_50    10526.0  2.0\n",
       "81734  Microglia   Aged_50    10206.0  2.0\n",
       "81735  Microglia   Aged_50    10360.0  2.0\n",
       "\n",
       "[9115 rows x 4 columns]"
      ]
     },
     "execution_count": 190,
     "metadata": {},
     "output_type": "execute_result"
    }
   ],
   "source": [
    "Microglia_adata_testing.obs"
   ]
  },
  {
   "cell_type": "code",
   "execution_count": 191,
   "id": "8cb8f70c-7e0d-4f41-8bd9-f09523eab863",
   "metadata": {},
   "outputs": [],
   "source": [
    "expr_matrix = Microglia_adata_testing.X.toarray()"
   ]
  },
  {
   "cell_type": "code",
   "execution_count": 192,
   "id": "f551eff2-24f3-4efe-93c2-5747ed96d8d1",
   "metadata": {},
   "outputs": [
    {
     "data": {
      "text/plain": [
       "array([[ 0.,  0.,  3., ...,  0.,  0.,  6.],\n",
       "       [ 0.,  0.,  0., ...,  0.,  0.,  3.],\n",
       "       [ 0.,  0.,  4., ...,  0.,  0., 11.],\n",
       "       ...,\n",
       "       [ 0.,  0.,  2., ...,  0.,  0.,  4.],\n",
       "       [ 0.,  0.,  1., ...,  0.,  0.,  3.],\n",
       "       [ 0.,  0.,  1., ...,  0.,  0.,  4.]],\n",
       "      shape=(9115, 55416), dtype=float32)"
      ]
     },
     "execution_count": 192,
     "metadata": {},
     "output_type": "execute_result"
    }
   ],
   "source": [
    "expr_matrix"
   ]
  },
  {
   "cell_type": "code",
   "execution_count": 193,
   "id": "c4a7008d-8179-434c-b123-7361387d6b47",
   "metadata": {},
   "outputs": [],
   "source": [
    "N_cells, N_genes = expr_matrix.shape"
   ]
  },
  {
   "cell_type": "code",
   "execution_count": 194,
   "id": "2e0885f6-7847-4735-b405-6408f545d1f6",
   "metadata": {},
   "outputs": [
    {
     "name": "stderr",
     "output_type": "stream",
     "text": [
      "/tmp/ipykernel_151467/211689349.py:2: FutureWarning: You are using `torch.load` with `weights_only=False` (the current default value), which uses the default pickle module implicitly. It is possible to construct malicious pickle data which will execute arbitrary code during unpickling (See https://github.com/pytorch/pytorch/blob/main/SECURITY.md#untrusted-models for more details). In a future release, the default value for `weights_only` will be flipped to `True`. This limits the functions that could be executed during unpickling. Arbitrary objects will no longer be allowed to be loaded via this mode unless they are explicitly allowlisted by the user via `torch.serialization.add_safe_globals`. We recommend you start setting `weights_only=True` for any use case where you don't have full control of the loaded file. Please open an issue on GitHub for any issues related to this experimental feature.\n",
      "  test_model.load_state_dict(torch.load(\"./Model_param/ANN/Microglia.pth\"))\n"
     ]
    },
    {
     "data": {
      "text/plain": [
       "CircadianNet(\n",
       "  (model): Sequential(\n",
       "    (0): Linear(in_features=55416, out_features=256, bias=True)\n",
       "    (1): ReLU()\n",
       "    (2): Dropout(p=0.2, inplace=False)\n",
       "    (3): Linear(in_features=256, out_features=128, bias=True)\n",
       "    (4): ReLU()\n",
       "    (5): Dropout(p=0.2, inplace=False)\n",
       "    (6): Linear(in_features=128, out_features=2, bias=True)\n",
       "  )\n",
       ")"
      ]
     },
     "execution_count": 194,
     "metadata": {},
     "output_type": "execute_result"
    }
   ],
   "source": [
    "test_model = CircadianNet(input_dim=N_genes)\n",
    "test_model.load_state_dict(torch.load(\"./Model_param/ANN/Microglia.pth\"))\n",
    "test_model.eval()"
   ]
  },
  {
   "cell_type": "code",
   "execution_count": 195,
   "id": "9718a95c-ea5b-4a35-b0e8-da932fa27884",
   "metadata": {},
   "outputs": [],
   "source": [
    "input_tensor = torch.from_numpy(expr_matrix)"
   ]
  },
  {
   "cell_type": "code",
   "execution_count": 196,
   "id": "0271961c-2cf3-4e32-91d9-f6c1db077a16",
   "metadata": {},
   "outputs": [],
   "source": [
    "# Infer to obtain the predicted value of sin/cos\n",
    "with torch.no_grad():\n",
    "    pred_vec = test_model(input_tensor)  # shape: (n_cells, 2)\n",
    "\n",
    "# Convert sin/cos to time (hours)\n",
    "pred_angles = torch.atan2(pred_vec[:, 0], pred_vec[:, 1])  # atan2(sin, cos)\n",
    "pred_hours = (pred_angles % (2 * np.pi)) * (24 / (2 * np.pi))"
   ]
  },
  {
   "cell_type": "code",
   "execution_count": 197,
   "id": "5d0f4655-da0f-4ff9-8e0f-ddeee9db30ca",
   "metadata": {},
   "outputs": [
    {
     "data": {
      "text/plain": [
       "tensor([5.9073, 5.5844, 5.0947,  ..., 0.9663, 1.3055, 1.7000])"
      ]
     },
     "execution_count": 197,
     "metadata": {},
     "output_type": "execute_result"
    }
   ],
   "source": [
    "pred_hours"
   ]
  },
  {
   "cell_type": "code",
   "execution_count": 198,
   "id": "7c43b3e0-834e-424b-b798-f09dfd3f0aa9",
   "metadata": {},
   "outputs": [],
   "source": [
    "Microglia_adata_testing.obs['Predict time'] = pred_hours"
   ]
  },
  {
   "cell_type": "code",
   "execution_count": 199,
   "id": "26b4162f-0f40-4fee-899a-ec5daddc88c4",
   "metadata": {},
   "outputs": [
    {
     "data": {
      "text/html": [
       "<div>\n",
       "<style scoped>\n",
       "    .dataframe tbody tr th:only-of-type {\n",
       "        vertical-align: middle;\n",
       "    }\n",
       "\n",
       "    .dataframe tbody tr th {\n",
       "        vertical-align: top;\n",
       "    }\n",
       "\n",
       "    .dataframe thead th {\n",
       "        text-align: right;\n",
       "    }\n",
       "</style>\n",
       "<table border=\"1\" class=\"dataframe\">\n",
       "  <thead>\n",
       "    <tr style=\"text-align: right;\">\n",
       "      <th></th>\n",
       "      <th>cell_type</th>\n",
       "      <th>Age_Time</th>\n",
       "      <th>total_UMI</th>\n",
       "      <th>TOD</th>\n",
       "      <th>Predict time</th>\n",
       "    </tr>\n",
       "  </thead>\n",
       "  <tbody>\n",
       "    <tr>\n",
       "      <th>72621</th>\n",
       "      <td>Microglia</td>\n",
       "      <td>Adult_54</td>\n",
       "      <td>10951.0</td>\n",
       "      <td>6.0</td>\n",
       "      <td>5.907314</td>\n",
       "    </tr>\n",
       "    <tr>\n",
       "      <th>72622</th>\n",
       "      <td>Microglia</td>\n",
       "      <td>Adult_54</td>\n",
       "      <td>11212.0</td>\n",
       "      <td>6.0</td>\n",
       "      <td>5.584360</td>\n",
       "    </tr>\n",
       "    <tr>\n",
       "      <th>72623</th>\n",
       "      <td>Microglia</td>\n",
       "      <td>Adult_54</td>\n",
       "      <td>11503.0</td>\n",
       "      <td>6.0</td>\n",
       "      <td>5.094688</td>\n",
       "    </tr>\n",
       "    <tr>\n",
       "      <th>72624</th>\n",
       "      <td>Microglia</td>\n",
       "      <td>Adult_54</td>\n",
       "      <td>10004.0</td>\n",
       "      <td>6.0</td>\n",
       "      <td>5.541805</td>\n",
       "    </tr>\n",
       "    <tr>\n",
       "      <th>72625</th>\n",
       "      <td>Microglia</td>\n",
       "      <td>Adult_54</td>\n",
       "      <td>10687.0</td>\n",
       "      <td>6.0</td>\n",
       "      <td>9.720425</td>\n",
       "    </tr>\n",
       "    <tr>\n",
       "      <th>...</th>\n",
       "      <td>...</td>\n",
       "      <td>...</td>\n",
       "      <td>...</td>\n",
       "      <td>...</td>\n",
       "      <td>...</td>\n",
       "    </tr>\n",
       "    <tr>\n",
       "      <th>81731</th>\n",
       "      <td>Microglia</td>\n",
       "      <td>Aged_50</td>\n",
       "      <td>11424.0</td>\n",
       "      <td>2.0</td>\n",
       "      <td>2.646861</td>\n",
       "    </tr>\n",
       "    <tr>\n",
       "      <th>81732</th>\n",
       "      <td>Microglia</td>\n",
       "      <td>Aged_50</td>\n",
       "      <td>10343.0</td>\n",
       "      <td>2.0</td>\n",
       "      <td>2.656105</td>\n",
       "    </tr>\n",
       "    <tr>\n",
       "      <th>81733</th>\n",
       "      <td>Microglia</td>\n",
       "      <td>Aged_50</td>\n",
       "      <td>10526.0</td>\n",
       "      <td>2.0</td>\n",
       "      <td>0.966331</td>\n",
       "    </tr>\n",
       "    <tr>\n",
       "      <th>81734</th>\n",
       "      <td>Microglia</td>\n",
       "      <td>Aged_50</td>\n",
       "      <td>10206.0</td>\n",
       "      <td>2.0</td>\n",
       "      <td>1.305533</td>\n",
       "    </tr>\n",
       "    <tr>\n",
       "      <th>81735</th>\n",
       "      <td>Microglia</td>\n",
       "      <td>Aged_50</td>\n",
       "      <td>10360.0</td>\n",
       "      <td>2.0</td>\n",
       "      <td>1.699988</td>\n",
       "    </tr>\n",
       "  </tbody>\n",
       "</table>\n",
       "<p>9115 rows × 5 columns</p>\n",
       "</div>"
      ],
      "text/plain": [
       "       cell_type  Age_Time  total_UMI  TOD  Predict time\n",
       "72621  Microglia  Adult_54    10951.0  6.0      5.907314\n",
       "72622  Microglia  Adult_54    11212.0  6.0      5.584360\n",
       "72623  Microglia  Adult_54    11503.0  6.0      5.094688\n",
       "72624  Microglia  Adult_54    10004.0  6.0      5.541805\n",
       "72625  Microglia  Adult_54    10687.0  6.0      9.720425\n",
       "...          ...       ...        ...  ...           ...\n",
       "81731  Microglia   Aged_50    11424.0  2.0      2.646861\n",
       "81732  Microglia   Aged_50    10343.0  2.0      2.656105\n",
       "81733  Microglia   Aged_50    10526.0  2.0      0.966331\n",
       "81734  Microglia   Aged_50    10206.0  2.0      1.305533\n",
       "81735  Microglia   Aged_50    10360.0  2.0      1.699988\n",
       "\n",
       "[9115 rows x 5 columns]"
      ]
     },
     "execution_count": 199,
     "metadata": {},
     "output_type": "execute_result"
    }
   ],
   "source": [
    "Microglia_adata_testing.obs"
   ]
  },
  {
   "cell_type": "code",
   "execution_count": 200,
   "id": "400d0745-8187-4f40-af26-2f9726e39286",
   "metadata": {},
   "outputs": [
    {
     "data": {
      "image/png": "[encoded data removed]",
      "text/plain": [
       "<Figure size 1000x600 with 1 Axes>"
      ]
     },
     "metadata": {},
     "output_type": "display_data"
    }
   ],
   "source": [
    "plt.figure(figsize=(10, 6))\n",
    "plt.hist(Microglia_adata_testing.obs['TOD'], bins=24, range=(0, 24), alpha=0.5, label='Real TOD', edgecolor='black')\n",
    "plt.hist(Microglia_adata_testing.obs['Predict time'], bins=24, range=(0, 24), alpha=0.5, label='Predicted TOD', edgecolor='black')\n",
    "plt.xlabel('Time of Day (Hour)')\n",
    "plt.ylabel('Count')\n",
    "plt.title('Distribution of Time of Day (TOD)')\n",
    "plt.xticks(range(0, 25, 1))  \n",
    "plt.grid(True, linestyle='--', alpha=0.5)\n",
    "plt.legend()\n",
    "plt.tight_layout()"
   ]
  },
  {
   "cell_type": "markdown",
   "id": "c748d670-56cb-4dc2-9d3c-d76b4d01db03",
   "metadata": {
    "jp-MarkdownHeadingCollapsed": true
   },
   "source": [
    "## Astrocyte"
   ]
  },
  {
   "cell_type": "markdown",
   "id": "eec4b323-175e-4877-9b73-541fa2e9196d",
   "metadata": {},
   "source": [
    "### Training & Validation"
   ]
  },
  {
   "cell_type": "code",
   "execution_count": 130,
   "id": "66be2def-cf50-4456-8945-fae373e9d5c8",
   "metadata": {},
   "outputs": [
    {
     "data": {
      "text/plain": [
       "View of AnnData object with n_obs × n_vars = 24974 × 55416\n",
       "    obs: 'cell_type', 'Age_Time', 'total_UMI', 'TOD'\n",
       "    var: 'gene_id', 'gene_type', 'gene_name'"
      ]
     },
     "execution_count": 130,
     "metadata": {},
     "output_type": "execute_result"
    }
   ],
   "source": [
    "Astrocyte_adata"
   ]
  },
  {
   "cell_type": "code",
   "execution_count": 131,
   "id": "d916a18a-e303-4f99-ad95-2896baf3bb4b",
   "metadata": {},
   "outputs": [
    {
     "data": {
      "text/html": [
       "<div>\n",
       "<style scoped>\n",
       "    .dataframe tbody tr th:only-of-type {\n",
       "        vertical-align: middle;\n",
       "    }\n",
       "\n",
       "    .dataframe tbody tr th {\n",
       "        vertical-align: top;\n",
       "    }\n",
       "\n",
       "    .dataframe thead th {\n",
       "        text-align: right;\n",
       "    }\n",
       "</style>\n",
       "<table border=\"1\" class=\"dataframe\">\n",
       "  <thead>\n",
       "    <tr style=\"text-align: right;\">\n",
       "      <th></th>\n",
       "      <th>cell_type</th>\n",
       "      <th>Age_Time</th>\n",
       "      <th>total_UMI</th>\n",
       "      <th>TOD</th>\n",
       "    </tr>\n",
       "  </thead>\n",
       "  <tbody>\n",
       "    <tr>\n",
       "      <th>47647</th>\n",
       "      <td>Astrocyte</td>\n",
       "      <td>Adult_18</td>\n",
       "      <td>10862.0</td>\n",
       "      <td>18.0</td>\n",
       "    </tr>\n",
       "    <tr>\n",
       "      <th>47648</th>\n",
       "      <td>Astrocyte</td>\n",
       "      <td>Adult_18</td>\n",
       "      <td>10883.0</td>\n",
       "      <td>18.0</td>\n",
       "    </tr>\n",
       "    <tr>\n",
       "      <th>47649</th>\n",
       "      <td>Astrocyte</td>\n",
       "      <td>Adult_18</td>\n",
       "      <td>10628.0</td>\n",
       "      <td>18.0</td>\n",
       "    </tr>\n",
       "    <tr>\n",
       "      <th>47650</th>\n",
       "      <td>Astrocyte</td>\n",
       "      <td>Adult_18</td>\n",
       "      <td>10939.0</td>\n",
       "      <td>18.0</td>\n",
       "    </tr>\n",
       "    <tr>\n",
       "      <th>47651</th>\n",
       "      <td>Astrocyte</td>\n",
       "      <td>Adult_18</td>\n",
       "      <td>10620.0</td>\n",
       "      <td>18.0</td>\n",
       "    </tr>\n",
       "    <tr>\n",
       "      <th>...</th>\n",
       "      <td>...</td>\n",
       "      <td>...</td>\n",
       "      <td>...</td>\n",
       "      <td>...</td>\n",
       "    </tr>\n",
       "    <tr>\n",
       "      <th>72616</th>\n",
       "      <td>Astrocyte</td>\n",
       "      <td>Aged_62</td>\n",
       "      <td>10506.0</td>\n",
       "      <td>14.0</td>\n",
       "    </tr>\n",
       "    <tr>\n",
       "      <th>72617</th>\n",
       "      <td>Astrocyte</td>\n",
       "      <td>Aged_62</td>\n",
       "      <td>11449.0</td>\n",
       "      <td>14.0</td>\n",
       "    </tr>\n",
       "    <tr>\n",
       "      <th>72618</th>\n",
       "      <td>Astrocyte</td>\n",
       "      <td>Aged_62</td>\n",
       "      <td>14312.0</td>\n",
       "      <td>14.0</td>\n",
       "    </tr>\n",
       "    <tr>\n",
       "      <th>72619</th>\n",
       "      <td>Astrocyte</td>\n",
       "      <td>Aged_62</td>\n",
       "      <td>10353.0</td>\n",
       "      <td>14.0</td>\n",
       "    </tr>\n",
       "    <tr>\n",
       "      <th>72620</th>\n",
       "      <td>Astrocyte</td>\n",
       "      <td>Aged_62</td>\n",
       "      <td>10051.0</td>\n",
       "      <td>14.0</td>\n",
       "    </tr>\n",
       "  </tbody>\n",
       "</table>\n",
       "<p>24974 rows × 4 columns</p>\n",
       "</div>"
      ],
      "text/plain": [
       "       cell_type  Age_Time  total_UMI   TOD\n",
       "47647  Astrocyte  Adult_18    10862.0  18.0\n",
       "47648  Astrocyte  Adult_18    10883.0  18.0\n",
       "47649  Astrocyte  Adult_18    10628.0  18.0\n",
       "47650  Astrocyte  Adult_18    10939.0  18.0\n",
       "47651  Astrocyte  Adult_18    10620.0  18.0\n",
       "...          ...       ...        ...   ...\n",
       "72616  Astrocyte   Aged_62    10506.0  14.0\n",
       "72617  Astrocyte   Aged_62    11449.0  14.0\n",
       "72618  Astrocyte   Aged_62    14312.0  14.0\n",
       "72619  Astrocyte   Aged_62    10353.0  14.0\n",
       "72620  Astrocyte   Aged_62    10051.0  14.0\n",
       "\n",
       "[24974 rows x 4 columns]"
      ]
     },
     "execution_count": 131,
     "metadata": {},
     "output_type": "execute_result"
    }
   ],
   "source": [
    "Astrocyte_adata.obs"
   ]
  },
  {
   "cell_type": "code",
   "execution_count": 132,
   "id": "c338ea80-f0d7-450a-acf9-7ab0dee5d784",
   "metadata": {},
   "outputs": [
    {
     "data": {
      "text/plain": [
       "Index(['64914', '66620', '50187', '60790', '56041', '62052', '61898', '53054',\n",
       "       '50545', '71059',\n",
       "       ...\n",
       "       '58313', '54427', '59770', '54265', '50274', '51420', '58206', '49886',\n",
       "       '51310', '67543'],\n",
       "      dtype='object', length=14984)"
      ]
     },
     "execution_count": 132,
     "metadata": {},
     "output_type": "execute_result"
    }
   ],
   "source": [
    "sampled_indices = Astrocyte_adata.obs.sample(frac=0.6, random_state=42).index\n",
    "sampled_indices"
   ]
  },
  {
   "cell_type": "code",
   "execution_count": 133,
   "id": "8f9073d5-d5b3-4349-9d1f-4891832f238f",
   "metadata": {},
   "outputs": [],
   "source": [
    "Astrocyte_adata_training = Astrocyte_adata[sampled_indices, :].copy()"
   ]
  },
  {
   "cell_type": "code",
   "execution_count": 134,
   "id": "13659a82-0283-401b-b861-c2648042c907",
   "metadata": {},
   "outputs": [
    {
     "data": {
      "text/plain": [
       "AnnData object with n_obs × n_vars = 14984 × 55416\n",
       "    obs: 'cell_type', 'Age_Time', 'total_UMI', 'TOD'\n",
       "    var: 'gene_id', 'gene_type', 'gene_name'"
      ]
     },
     "execution_count": 134,
     "metadata": {},
     "output_type": "execute_result"
    }
   ],
   "source": [
    "Astrocyte_adata_training"
   ]
  },
  {
   "cell_type": "code",
   "execution_count": 135,
   "id": "da854c8a-37a6-4ebf-a26c-cb47a255a9d1",
   "metadata": {},
   "outputs": [
    {
     "data": {
      "text/html": [
       "<div>\n",
       "<style scoped>\n",
       "    .dataframe tbody tr th:only-of-type {\n",
       "        vertical-align: middle;\n",
       "    }\n",
       "\n",
       "    .dataframe tbody tr th {\n",
       "        vertical-align: top;\n",
       "    }\n",
       "\n",
       "    .dataframe thead th {\n",
       "        text-align: right;\n",
       "    }\n",
       "</style>\n",
       "<table border=\"1\" class=\"dataframe\">\n",
       "  <thead>\n",
       "    <tr style=\"text-align: right;\">\n",
       "      <th></th>\n",
       "      <th>cell_type</th>\n",
       "      <th>Age_Time</th>\n",
       "      <th>total_UMI</th>\n",
       "      <th>TOD</th>\n",
       "    </tr>\n",
       "  </thead>\n",
       "  <tbody>\n",
       "    <tr>\n",
       "      <th>64914</th>\n",
       "      <td>Astrocyte</td>\n",
       "      <td>Adult_38</td>\n",
       "      <td>10284.0</td>\n",
       "      <td>14.0</td>\n",
       "    </tr>\n",
       "    <tr>\n",
       "      <th>66620</th>\n",
       "      <td>Astrocyte</td>\n",
       "      <td>Adult_18</td>\n",
       "      <td>10562.0</td>\n",
       "      <td>18.0</td>\n",
       "    </tr>\n",
       "    <tr>\n",
       "      <th>50187</th>\n",
       "      <td>Astrocyte</td>\n",
       "      <td>Adult_22</td>\n",
       "      <td>10400.0</td>\n",
       "      <td>22.0</td>\n",
       "    </tr>\n",
       "    <tr>\n",
       "      <th>60790</th>\n",
       "      <td>Astrocyte</td>\n",
       "      <td>Adult_42</td>\n",
       "      <td>11090.0</td>\n",
       "      <td>18.0</td>\n",
       "    </tr>\n",
       "    <tr>\n",
       "      <th>56041</th>\n",
       "      <td>Astrocyte</td>\n",
       "      <td>Adult_54</td>\n",
       "      <td>11330.0</td>\n",
       "      <td>6.0</td>\n",
       "    </tr>\n",
       "    <tr>\n",
       "      <th>...</th>\n",
       "      <td>...</td>\n",
       "      <td>...</td>\n",
       "      <td>...</td>\n",
       "      <td>...</td>\n",
       "    </tr>\n",
       "    <tr>\n",
       "      <th>51420</th>\n",
       "      <td>Astrocyte</td>\n",
       "      <td>Adult_18</td>\n",
       "      <td>10424.0</td>\n",
       "      <td>18.0</td>\n",
       "    </tr>\n",
       "    <tr>\n",
       "      <th>58206</th>\n",
       "      <td>Astrocyte</td>\n",
       "      <td>Adult_30</td>\n",
       "      <td>11037.0</td>\n",
       "      <td>6.0</td>\n",
       "    </tr>\n",
       "    <tr>\n",
       "      <th>49886</th>\n",
       "      <td>Astrocyte</td>\n",
       "      <td>Adult_22</td>\n",
       "      <td>13505.0</td>\n",
       "      <td>22.0</td>\n",
       "    </tr>\n",
       "    <tr>\n",
       "      <th>51310</th>\n",
       "      <td>Astrocyte</td>\n",
       "      <td>Adult_18</td>\n",
       "      <td>10060.0</td>\n",
       "      <td>18.0</td>\n",
       "    </tr>\n",
       "    <tr>\n",
       "      <th>67543</th>\n",
       "      <td>Astrocyte</td>\n",
       "      <td>Aged_22</td>\n",
       "      <td>12452.0</td>\n",
       "      <td>22.0</td>\n",
       "    </tr>\n",
       "  </tbody>\n",
       "</table>\n",
       "<p>14984 rows × 4 columns</p>\n",
       "</div>"
      ],
      "text/plain": [
       "       cell_type  Age_Time  total_UMI   TOD\n",
       "64914  Astrocyte  Adult_38    10284.0  14.0\n",
       "66620  Astrocyte  Adult_18    10562.0  18.0\n",
       "50187  Astrocyte  Adult_22    10400.0  22.0\n",
       "60790  Astrocyte  Adult_42    11090.0  18.0\n",
       "56041  Astrocyte  Adult_54    11330.0   6.0\n",
       "...          ...       ...        ...   ...\n",
       "51420  Astrocyte  Adult_18    10424.0  18.0\n",
       "58206  Astrocyte  Adult_30    11037.0   6.0\n",
       "49886  Astrocyte  Adult_22    13505.0  22.0\n",
       "51310  Astrocyte  Adult_18    10060.0  18.0\n",
       "67543  Astrocyte   Aged_22    12452.0  22.0\n",
       "\n",
       "[14984 rows x 4 columns]"
      ]
     },
     "execution_count": 135,
     "metadata": {},
     "output_type": "execute_result"
    }
   ],
   "source": [
    "Astrocyte_adata_training.obs"
   ]
  },
  {
   "cell_type": "code",
   "execution_count": 136,
   "id": "9628a4c8-b76b-413a-8ed2-aff655797a88",
   "metadata": {},
   "outputs": [],
   "source": [
    "expr_matrix = Astrocyte_adata_training.X.toarray()"
   ]
  },
  {
   "cell_type": "code",
   "execution_count": 137,
   "id": "58ad6fe4-2068-4b62-9133-9cedcc9d5c10",
   "metadata": {},
   "outputs": [
    {
     "data": {
      "text/plain": [
       "array([[0., 0., 0., ..., 0., 0., 1.],\n",
       "       [0., 0., 2., ..., 0., 0., 1.],\n",
       "       [0., 0., 0., ..., 0., 0., 2.],\n",
       "       ...,\n",
       "       [0., 0., 0., ..., 0., 0., 0.],\n",
       "       [0., 0., 0., ..., 0., 0., 2.],\n",
       "       [0., 0., 0., ..., 0., 0., 2.]], shape=(14984, 55416), dtype=float32)"
      ]
     },
     "execution_count": 137,
     "metadata": {},
     "output_type": "execute_result"
    }
   ],
   "source": [
    "expr_matrix"
   ]
  },
  {
   "cell_type": "code",
   "execution_count": 138,
   "id": "5865cc8f-918d-4a8c-bb7f-c001357c443c",
   "metadata": {},
   "outputs": [],
   "source": [
    "N_cells, N_genes = expr_matrix.shape"
   ]
  },
  {
   "cell_type": "code",
   "execution_count": 139,
   "id": "e9dfb6de-a3da-4f72-8ae6-9a0b1439518e",
   "metadata": {
    "scrolled": true
   },
   "outputs": [],
   "source": [
    "times = Astrocyte_adata_training.obs['TOD']"
   ]
  },
  {
   "cell_type": "code",
   "execution_count": 140,
   "id": "0f17f5fe-fb2e-4fd8-aaa4-106559aee123",
   "metadata": {},
   "outputs": [
    {
     "data": {
      "text/plain": [
       "64914    14.0\n",
       "66620    18.0\n",
       "50187    22.0\n",
       "60790    18.0\n",
       "56041     6.0\n",
       "         ... \n",
       "51420    18.0\n",
       "58206     6.0\n",
       "49886    22.0\n",
       "51310    18.0\n",
       "67543    22.0\n",
       "Name: TOD, Length: 14984, dtype: float64"
      ]
     },
     "execution_count": 140,
     "metadata": {},
     "output_type": "execute_result"
    }
   ],
   "source": [
    "times"
   ]
  },
  {
   "cell_type": "code",
   "execution_count": 141,
   "id": "cff0f732-4fb8-4d4a-9a87-7f27368371d6",
   "metadata": {},
   "outputs": [],
   "source": [
    "dataset = CircadianDataset(expr_matrix, times)"
   ]
  },
  {
   "cell_type": "code",
   "execution_count": 142,
   "id": "406bb9ce-bcd3-4054-9647-74247a459904",
   "metadata": {},
   "outputs": [],
   "source": [
    "n_train = int(0.8 * len(dataset))\n",
    "n_val = len(dataset) - n_train\n",
    "train_ds, val_ds = torch.utils.data.random_split(dataset, [n_train, n_val])\n",
    "train_loader = DataLoader(train_ds, batch_size=32, shuffle=True)\n",
    "val_loader = DataLoader(val_ds, batch_size=32)"
   ]
  },
  {
   "cell_type": "code",
   "execution_count": 143,
   "id": "d7909338-de9e-45cd-a25f-d997627f8e27",
   "metadata": {},
   "outputs": [],
   "source": [
    "device = torch.device('cuda' if torch.cuda.is_available() else 'cpu')"
   ]
  },
  {
   "cell_type": "code",
   "execution_count": 144,
   "id": "c8294409-84a1-4992-bb1b-8b62e349b10b",
   "metadata": {},
   "outputs": [],
   "source": [
    "# Model Instantiation: The input dimension is the number of genes\n",
    "model = CircadianNet(input_dim=N_genes).to(device)\n",
    "# Loss Function: MSE is most commonly used in the sin/cos space\n",
    "criterion = nn.MSELoss()\n",
    "# Optimizer: Adam Adaptive Learning Rate\n",
    "optimizer = optim.Adam(model.parameters(), lr=1e-3)"
   ]
  },
  {
   "cell_type": "code",
   "execution_count": 145,
   "id": "460d39c4-1dc5-41d2-b064-ad6476298d03",
   "metadata": {},
   "outputs": [
    {
     "name": "stdout",
     "output_type": "stream",
     "text": [
      "Training cycle 01:   Epoch 01  Train Loss: 0.5787  Val Circular MAE: 2.6023 hours\n",
      "Training cycle 01:   Epoch 02  Train Loss: 0.2675  Val Circular MAE: 1.7184 hours\n",
      "Training cycle 01:   Epoch 03  Train Loss: 0.2177  Val Circular MAE: 1.6892 hours\n",
      "Training cycle 01:   Epoch 04  Train Loss: 0.1959  Val Circular MAE: 2.5037 hours\n",
      "Training cycle 01:   Epoch 05  Train Loss: 0.1804  Val Circular MAE: 1.5315 hours\n",
      "Training cycle 01:   Epoch 06  Train Loss: 0.1630  Val Circular MAE: 1.5613 hours\n",
      "Training cycle 01:   Epoch 07  Train Loss: 0.1620  Val Circular MAE: 1.5097 hours\n",
      "Training cycle 01:   Epoch 08  Train Loss: 0.1565  Val Circular MAE: 1.4335 hours\n"
     ]
    }
   ],
   "source": [
    "train_loss = 1\n",
    "val_mae = 10\n",
    "epoch = 1\n",
    "Training_cycle = 1\n",
    "\n",
    "while (not ((train_loss < 0.16) and (val_mae < 2.5))):\n",
    "    train_loss = train(model, train_loader, optimizer, criterion, device)\n",
    "    val_mae = evaluate(model, val_loader, device)\n",
    "    print(f\"Training cycle {Training_cycle:02d}:   Epoch {epoch:02d}  Train Loss: {train_loss:.4f}  Val Circular MAE: {val_mae:.4f} hours\")\n",
    "    epoch = epoch + 1\n",
    "    if epoch > 50: \n",
    "        print(f'\\n\\nTraining # {Training_cycle} failed! Restart the # {Training_cycle+1} training cycle ... \\n')\n",
    "        n_train = int(0.8 * len(dataset))\n",
    "        n_val = len(dataset) - n_train\n",
    "        train_ds, val_ds = torch.utils.data.random_split(dataset, [n_train, n_val])\n",
    "        train_loader = DataLoader(train_ds, batch_size=32, shuffle=True)\n",
    "        val_loader = DataLoader(val_ds, batch_size=32)\n",
    "        device = torch.device('cuda' if torch.cuda.is_available() else 'cpu')\n",
    "        # Model Instantiation: The input dimension is the number of genes\n",
    "        model = CircadianNet(input_dim=N_genes).to(device)\n",
    "        # Loss Function: MSE is most commonly used in the sin/cos space\n",
    "        criterion = nn.MSELoss()\n",
    "        # Optimizer: Adam Adaptive Learning Rate\n",
    "        optimizer = optim.Adam(model.parameters(), lr=1e-3)\n",
    "        epoch = 1\n",
    "        Training_cycle = Training_cycle + 1"
   ]
  },
  {
   "cell_type": "code",
   "execution_count": 160,
   "id": "36c0c512-ccaa-4505-9b43-5eef86c24b90",
   "metadata": {},
   "outputs": [],
   "source": [
    "torch.save(model.state_dict(), './Model_param/ANN/Astrocyte.pth')"
   ]
  },
  {
   "cell_type": "markdown",
   "id": "b7b16102-d859-407b-8232-1bc78532815e",
   "metadata": {},
   "source": [
    "### Testing"
   ]
  },
  {
   "cell_type": "code",
   "execution_count": 161,
   "id": "f1b13799-307a-46e1-af97-652cefc01d7f",
   "metadata": {},
   "outputs": [],
   "source": [
    "remaining_indices = Astrocyte_adata.obs.index.difference(sampled_indices)"
   ]
  },
  {
   "cell_type": "code",
   "execution_count": 162,
   "id": "3a8b82ca-6395-492c-af43-fc9c079b8478",
   "metadata": {},
   "outputs": [
    {
     "data": {
      "text/plain": [
       "Index(['47648', '47649', '47656', '47657', '47658', '47659', '47660', '47663',\n",
       "       '47665', '47668',\n",
       "       ...\n",
       "       '72601', '72602', '72603', '72608', '72609', '72610', '72612', '72617',\n",
       "       '72619', '72620'],\n",
       "      dtype='object', length=9990)"
      ]
     },
     "execution_count": 162,
     "metadata": {},
     "output_type": "execute_result"
    }
   ],
   "source": [
    "remaining_indices"
   ]
  },
  {
   "cell_type": "code",
   "execution_count": 163,
   "id": "545cbef6-13d4-4870-a387-96f6cc90303a",
   "metadata": {},
   "outputs": [],
   "source": [
    "Astrocyte_adata_testing = Astrocyte_adata[remaining_indices, :].copy()"
   ]
  },
  {
   "cell_type": "code",
   "execution_count": 164,
   "id": "94b1162f-3380-4675-aa14-5d85bbe12600",
   "metadata": {},
   "outputs": [
    {
     "data": {
      "text/html": [
       "<div>\n",
       "<style scoped>\n",
       "    .dataframe tbody tr th:only-of-type {\n",
       "        vertical-align: middle;\n",
       "    }\n",
       "\n",
       "    .dataframe tbody tr th {\n",
       "        vertical-align: top;\n",
       "    }\n",
       "\n",
       "    .dataframe thead th {\n",
       "        text-align: right;\n",
       "    }\n",
       "</style>\n",
       "<table border=\"1\" class=\"dataframe\">\n",
       "  <thead>\n",
       "    <tr style=\"text-align: right;\">\n",
       "      <th></th>\n",
       "      <th>cell_type</th>\n",
       "      <th>Age_Time</th>\n",
       "      <th>total_UMI</th>\n",
       "      <th>TOD</th>\n",
       "    </tr>\n",
       "  </thead>\n",
       "  <tbody>\n",
       "    <tr>\n",
       "      <th>47648</th>\n",
       "      <td>Astrocyte</td>\n",
       "      <td>Adult_18</td>\n",
       "      <td>10883.0</td>\n",
       "      <td>18.0</td>\n",
       "    </tr>\n",
       "    <tr>\n",
       "      <th>47649</th>\n",
       "      <td>Astrocyte</td>\n",
       "      <td>Adult_18</td>\n",
       "      <td>10628.0</td>\n",
       "      <td>18.0</td>\n",
       "    </tr>\n",
       "    <tr>\n",
       "      <th>47656</th>\n",
       "      <td>Astrocyte</td>\n",
       "      <td>Adult_18</td>\n",
       "      <td>10434.0</td>\n",
       "      <td>18.0</td>\n",
       "    </tr>\n",
       "    <tr>\n",
       "      <th>47657</th>\n",
       "      <td>Astrocyte</td>\n",
       "      <td>Adult_18</td>\n",
       "      <td>10200.0</td>\n",
       "      <td>18.0</td>\n",
       "    </tr>\n",
       "    <tr>\n",
       "      <th>47658</th>\n",
       "      <td>Astrocyte</td>\n",
       "      <td>Adult_18</td>\n",
       "      <td>11181.0</td>\n",
       "      <td>18.0</td>\n",
       "    </tr>\n",
       "    <tr>\n",
       "      <th>...</th>\n",
       "      <td>...</td>\n",
       "      <td>...</td>\n",
       "      <td>...</td>\n",
       "      <td>...</td>\n",
       "    </tr>\n",
       "    <tr>\n",
       "      <th>72610</th>\n",
       "      <td>Astrocyte</td>\n",
       "      <td>Aged_62</td>\n",
       "      <td>21317.0</td>\n",
       "      <td>14.0</td>\n",
       "    </tr>\n",
       "    <tr>\n",
       "      <th>72612</th>\n",
       "      <td>Astrocyte</td>\n",
       "      <td>Aged_62</td>\n",
       "      <td>10149.0</td>\n",
       "      <td>14.0</td>\n",
       "    </tr>\n",
       "    <tr>\n",
       "      <th>72617</th>\n",
       "      <td>Astrocyte</td>\n",
       "      <td>Aged_62</td>\n",
       "      <td>11449.0</td>\n",
       "      <td>14.0</td>\n",
       "    </tr>\n",
       "    <tr>\n",
       "      <th>72619</th>\n",
       "      <td>Astrocyte</td>\n",
       "      <td>Aged_62</td>\n",
       "      <td>10353.0</td>\n",
       "      <td>14.0</td>\n",
       "    </tr>\n",
       "    <tr>\n",
       "      <th>72620</th>\n",
       "      <td>Astrocyte</td>\n",
       "      <td>Aged_62</td>\n",
       "      <td>10051.0</td>\n",
       "      <td>14.0</td>\n",
       "    </tr>\n",
       "  </tbody>\n",
       "</table>\n",
       "<p>9990 rows × 4 columns</p>\n",
       "</div>"
      ],
      "text/plain": [
       "       cell_type  Age_Time  total_UMI   TOD\n",
       "47648  Astrocyte  Adult_18    10883.0  18.0\n",
       "47649  Astrocyte  Adult_18    10628.0  18.0\n",
       "47656  Astrocyte  Adult_18    10434.0  18.0\n",
       "47657  Astrocyte  Adult_18    10200.0  18.0\n",
       "47658  Astrocyte  Adult_18    11181.0  18.0\n",
       "...          ...       ...        ...   ...\n",
       "72610  Astrocyte   Aged_62    21317.0  14.0\n",
       "72612  Astrocyte   Aged_62    10149.0  14.0\n",
       "72617  Astrocyte   Aged_62    11449.0  14.0\n",
       "72619  Astrocyte   Aged_62    10353.0  14.0\n",
       "72620  Astrocyte   Aged_62    10051.0  14.0\n",
       "\n",
       "[9990 rows x 4 columns]"
      ]
     },
     "execution_count": 164,
     "metadata": {},
     "output_type": "execute_result"
    }
   ],
   "source": [
    "Astrocyte_adata_testing.obs"
   ]
  },
  {
   "cell_type": "code",
   "execution_count": 165,
   "id": "720998f3-c7d7-4e1d-a61e-fa2e94dee2af",
   "metadata": {},
   "outputs": [],
   "source": [
    "expr_matrix = Astrocyte_adata_testing.X.toarray()"
   ]
  },
  {
   "cell_type": "code",
   "execution_count": 166,
   "id": "0ae14dc9-ab47-4df0-90cb-2ab52247b04e",
   "metadata": {},
   "outputs": [
    {
     "data": {
      "text/plain": [
       "array([[0., 0., 0., ..., 0., 0., 1.],\n",
       "       [0., 0., 2., ..., 0., 0., 2.],\n",
       "       [0., 0., 1., ..., 0., 0., 0.],\n",
       "       ...,\n",
       "       [0., 0., 0., ..., 0., 0., 0.],\n",
       "       [0., 0., 0., ..., 0., 0., 3.],\n",
       "       [0., 0., 0., ..., 0., 0., 2.]], shape=(9990, 55416), dtype=float32)"
      ]
     },
     "execution_count": 166,
     "metadata": {},
     "output_type": "execute_result"
    }
   ],
   "source": [
    "expr_matrix"
   ]
  },
  {
   "cell_type": "code",
   "execution_count": 167,
   "id": "cb7ecce7-83d3-489d-b4fc-58d2386fe940",
   "metadata": {},
   "outputs": [],
   "source": [
    "N_cells, N_genes = expr_matrix.shape"
   ]
  },
  {
   "cell_type": "code",
   "execution_count": 168,
   "id": "a73754d2-d5eb-4f7a-b675-bba0b7a5211e",
   "metadata": {},
   "outputs": [
    {
     "name": "stderr",
     "output_type": "stream",
     "text": [
      "/tmp/ipykernel_151467/3074869385.py:2: FutureWarning: You are using `torch.load` with `weights_only=False` (the current default value), which uses the default pickle module implicitly. It is possible to construct malicious pickle data which will execute arbitrary code during unpickling (See https://github.com/pytorch/pytorch/blob/main/SECURITY.md#untrusted-models for more details). In a future release, the default value for `weights_only` will be flipped to `True`. This limits the functions that could be executed during unpickling. Arbitrary objects will no longer be allowed to be loaded via this mode unless they are explicitly allowlisted by the user via `torch.serialization.add_safe_globals`. We recommend you start setting `weights_only=True` for any use case where you don't have full control of the loaded file. Please open an issue on GitHub for any issues related to this experimental feature.\n",
      "  test_model.load_state_dict(torch.load(\"./Model_param/ANN/Astrocyte.pth\"))\n"
     ]
    },
    {
     "data": {
      "text/plain": [
       "CircadianNet(\n",
       "  (model): Sequential(\n",
       "    (0): Linear(in_features=55416, out_features=256, bias=True)\n",
       "    (1): ReLU()\n",
       "    (2): Dropout(p=0.2, inplace=False)\n",
       "    (3): Linear(in_features=256, out_features=128, bias=True)\n",
       "    (4): ReLU()\n",
       "    (5): Dropout(p=0.2, inplace=False)\n",
       "    (6): Linear(in_features=128, out_features=2, bias=True)\n",
       "  )\n",
       ")"
      ]
     },
     "execution_count": 168,
     "metadata": {},
     "output_type": "execute_result"
    }
   ],
   "source": [
    "test_model = CircadianNet(input_dim=N_genes)\n",
    "test_model.load_state_dict(torch.load(\"./Model_param/ANN/Astrocyte.pth\"))\n",
    "test_model.eval()"
   ]
  },
  {
   "cell_type": "code",
   "execution_count": 169,
   "id": "de87855c-8d68-4633-b2ab-736d6b0059e4",
   "metadata": {},
   "outputs": [],
   "source": [
    "input_tensor = torch.from_numpy(expr_matrix)"
   ]
  },
  {
   "cell_type": "code",
   "execution_count": 170,
   "id": "482ae880-bd63-47fe-8075-43320b8dd34d",
   "metadata": {},
   "outputs": [],
   "source": [
    "# Infer to obtain the predicted value of sin/cos\n",
    "with torch.no_grad():\n",
    "    pred_vec = test_model(input_tensor)  # shape: (n_cells, 2)\n",
    "\n",
    "# Convert sin/cos to time (hours)\n",
    "pred_angles = torch.atan2(pred_vec[:, 0], pred_vec[:, 1])  # atan2(sin, cos)\n",
    "pred_hours = (pred_angles % (2 * np.pi)) * (24 / (2 * np.pi))"
   ]
  },
  {
   "cell_type": "code",
   "execution_count": 171,
   "id": "296625a5-02a3-4acf-bd09-2fa803a351d0",
   "metadata": {},
   "outputs": [
    {
     "data": {
      "text/plain": [
       "tensor([17.6908, 16.4711, 17.8818,  ..., 13.6956, 13.9824, 13.9635])"
      ]
     },
     "execution_count": 171,
     "metadata": {},
     "output_type": "execute_result"
    }
   ],
   "source": [
    "pred_hours"
   ]
  },
  {
   "cell_type": "code",
   "execution_count": 172,
   "id": "e61cbf91-bc31-4244-ac2d-6e93834e1f42",
   "metadata": {},
   "outputs": [],
   "source": [
    "Astrocyte_adata_testing.obs['Predict time'] = pred_hours"
   ]
  },
  {
   "cell_type": "code",
   "execution_count": 173,
   "id": "f4cead1f-f6bd-4620-a95f-41b9abdcc6f4",
   "metadata": {},
   "outputs": [
    {
     "data": {
      "text/html": [
       "<div>\n",
       "<style scoped>\n",
       "    .dataframe tbody tr th:only-of-type {\n",
       "        vertical-align: middle;\n",
       "    }\n",
       "\n",
       "    .dataframe tbody tr th {\n",
       "        vertical-align: top;\n",
       "    }\n",
       "\n",
       "    .dataframe thead th {\n",
       "        text-align: right;\n",
       "    }\n",
       "</style>\n",
       "<table border=\"1\" class=\"dataframe\">\n",
       "  <thead>\n",
       "    <tr style=\"text-align: right;\">\n",
       "      <th></th>\n",
       "      <th>cell_type</th>\n",
       "      <th>Age_Time</th>\n",
       "      <th>total_UMI</th>\n",
       "      <th>TOD</th>\n",
       "      <th>Predict time</th>\n",
       "    </tr>\n",
       "  </thead>\n",
       "  <tbody>\n",
       "    <tr>\n",
       "      <th>47648</th>\n",
       "      <td>Astrocyte</td>\n",
       "      <td>Adult_18</td>\n",
       "      <td>10883.0</td>\n",
       "      <td>18.0</td>\n",
       "      <td>17.690804</td>\n",
       "    </tr>\n",
       "    <tr>\n",
       "      <th>47649</th>\n",
       "      <td>Astrocyte</td>\n",
       "      <td>Adult_18</td>\n",
       "      <td>10628.0</td>\n",
       "      <td>18.0</td>\n",
       "      <td>16.471062</td>\n",
       "    </tr>\n",
       "    <tr>\n",
       "      <th>47656</th>\n",
       "      <td>Astrocyte</td>\n",
       "      <td>Adult_18</td>\n",
       "      <td>10434.0</td>\n",
       "      <td>18.0</td>\n",
       "      <td>17.881832</td>\n",
       "    </tr>\n",
       "    <tr>\n",
       "      <th>47657</th>\n",
       "      <td>Astrocyte</td>\n",
       "      <td>Adult_18</td>\n",
       "      <td>10200.0</td>\n",
       "      <td>18.0</td>\n",
       "      <td>17.843874</td>\n",
       "    </tr>\n",
       "    <tr>\n",
       "      <th>47658</th>\n",
       "      <td>Astrocyte</td>\n",
       "      <td>Adult_18</td>\n",
       "      <td>11181.0</td>\n",
       "      <td>18.0</td>\n",
       "      <td>21.769461</td>\n",
       "    </tr>\n",
       "    <tr>\n",
       "      <th>...</th>\n",
       "      <td>...</td>\n",
       "      <td>...</td>\n",
       "      <td>...</td>\n",
       "      <td>...</td>\n",
       "      <td>...</td>\n",
       "    </tr>\n",
       "    <tr>\n",
       "      <th>72610</th>\n",
       "      <td>Astrocyte</td>\n",
       "      <td>Aged_62</td>\n",
       "      <td>21317.0</td>\n",
       "      <td>14.0</td>\n",
       "      <td>15.015277</td>\n",
       "    </tr>\n",
       "    <tr>\n",
       "      <th>72612</th>\n",
       "      <td>Astrocyte</td>\n",
       "      <td>Aged_62</td>\n",
       "      <td>10149.0</td>\n",
       "      <td>14.0</td>\n",
       "      <td>13.927961</td>\n",
       "    </tr>\n",
       "    <tr>\n",
       "      <th>72617</th>\n",
       "      <td>Astrocyte</td>\n",
       "      <td>Aged_62</td>\n",
       "      <td>11449.0</td>\n",
       "      <td>14.0</td>\n",
       "      <td>13.695635</td>\n",
       "    </tr>\n",
       "    <tr>\n",
       "      <th>72619</th>\n",
       "      <td>Astrocyte</td>\n",
       "      <td>Aged_62</td>\n",
       "      <td>10353.0</td>\n",
       "      <td>14.0</td>\n",
       "      <td>13.982417</td>\n",
       "    </tr>\n",
       "    <tr>\n",
       "      <th>72620</th>\n",
       "      <td>Astrocyte</td>\n",
       "      <td>Aged_62</td>\n",
       "      <td>10051.0</td>\n",
       "      <td>14.0</td>\n",
       "      <td>13.963511</td>\n",
       "    </tr>\n",
       "  </tbody>\n",
       "</table>\n",
       "<p>9990 rows × 5 columns</p>\n",
       "</div>"
      ],
      "text/plain": [
       "       cell_type  Age_Time  total_UMI   TOD  Predict time\n",
       "47648  Astrocyte  Adult_18    10883.0  18.0     17.690804\n",
       "47649  Astrocyte  Adult_18    10628.0  18.0     16.471062\n",
       "47656  Astrocyte  Adult_18    10434.0  18.0     17.881832\n",
       "47657  Astrocyte  Adult_18    10200.0  18.0     17.843874\n",
       "47658  Astrocyte  Adult_18    11181.0  18.0     21.769461\n",
       "...          ...       ...        ...   ...           ...\n",
       "72610  Astrocyte   Aged_62    21317.0  14.0     15.015277\n",
       "72612  Astrocyte   Aged_62    10149.0  14.0     13.927961\n",
       "72617  Astrocyte   Aged_62    11449.0  14.0     13.695635\n",
       "72619  Astrocyte   Aged_62    10353.0  14.0     13.982417\n",
       "72620  Astrocyte   Aged_62    10051.0  14.0     13.963511\n",
       "\n",
       "[9990 rows x 5 columns]"
      ]
     },
     "execution_count": 173,
     "metadata": {},
     "output_type": "execute_result"
    }
   ],
   "source": [
    "Astrocyte_adata_testing.obs"
   ]
  },
  {
   "cell_type": "code",
   "execution_count": 174,
   "id": "69185d60-c5c2-4a92-b91d-e2e979948747",
   "metadata": {},
   "outputs": [
    {
     "data": {
      "image/png": "[encoded data removed]",
      "text/plain": [
       "<Figure size 1000x600 with 1 Axes>"
      ]
     },
     "metadata": {},
     "output_type": "display_data"
    }
   ],
   "source": [
    "plt.figure(figsize=(10, 6))\n",
    "plt.hist(Astrocyte_adata_testing.obs['TOD'], bins=24, range=(0, 24), alpha=0.5, label='Real TOD', edgecolor='black')\n",
    "plt.hist(Astrocyte_adata_testing.obs['Predict time'], bins=24, range=(0, 24), alpha=0.5, label='Predicted TOD', edgecolor='black')\n",
    "plt.xlabel('Time of Day (Hour)')\n",
    "plt.ylabel('Count')\n",
    "plt.title('Distribution of Time of Day (TOD)')\n",
    "plt.xticks(range(0, 25, 1))  \n",
    "plt.grid(True, linestyle='--', alpha=0.5)\n",
    "plt.legend()\n",
    "plt.tight_layout()"
   ]
  },
  {
   "cell_type": "code",
   "execution_count": null,
   "id": "658552d8-8492-4adc-b80a-eb28d4446d16",
   "metadata": {},
   "outputs": [],
   "source": []
  },
  {
   "cell_type": "code",
   "execution_count": null,
   "id": "e4cdf11a-6f62-4e19-ab1a-4e790d53dd97",
   "metadata": {},
   "outputs": [],
   "source": []
  }
 ],
 "metadata": {
  "kernelspec": {
   "display_name": "Python [conda env:pytorch]",
   "language": "python",
   "name": "conda-env-pytorch-py"
  },
  "language_info": {
   "codemirror_mode": {
    "name": "ipython",
    "version": 3
   },
   "file_extension": ".py",
   "mimetype": "text/x-python",
   "name": "python",
   "nbconvert_exporter": "python",
   "pygments_lexer": "ipython3",
   "version": "3.10.17"
  }
 },
 "nbformat": 4,
 "nbformat_minor": 5
}
